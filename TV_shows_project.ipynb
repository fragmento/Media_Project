{
 "cells": [
  {
   "cell_type": "markdown",
   "metadata": {},
   "source": [
    "## Get data from single website \n"
   ]
  },
  {
   "cell_type": "code",
   "execution_count": 2,
   "metadata": {},
   "outputs": [
    {
     "data": {
      "text/plain": [
       "'en_US.UTF-8'"
      ]
     },
     "execution_count": 2,
     "metadata": {},
     "output_type": "execute_result"
    }
   ],
   "source": [
    "import mysql.connector\n",
    "import datetime\n",
    "import pandas as pd\n",
    "from mysql.connector import errorcode\n",
    "import config\n",
    "import requests\n",
    "import json\n",
    "import itertools\n",
    "from bs4 import BeautifulSoup as bs\n",
    "import time\n",
    "import locale\n",
    "\n",
    "locale.setlocale( locale.LC_ALL, 'en_US.UTF-8' )"
   ]
  },
  {
   "cell_type": "code",
   "execution_count": 200,
   "metadata": {},
   "outputs": [],
   "source": [
    "headers = {\n",
    "    'user-agent':\n",
    "    'Mozilla/5.0 (Macintosh; Intel Mac OS X 10_11_6) AppleWebKit/537.36 (KHTML, like Gecko) Chrome/53.0.2785.143 Safari/537.36'\n",
    "}\n",
    "\n",
    "show_id = 'tt4481220'\n",
    "\n",
    "url = \"https://www.imdb.com/title/tt7049682/ratings?ref_=tt_ov_rt\"\n",
    "new_url = \"https://www.imdb.com/title/\" + show_id + \"/ratings?ref_=tt_ov_rt\"\n",
    "\n",
    "page = requests.get(new_url, headers=headers)"
   ]
  },
  {
   "cell_type": "code",
   "execution_count": 201,
   "metadata": {},
   "outputs": [],
   "source": [
    "#Get contents of the page in the soup variable\n",
    "soup = bs(page.content, 'lxml')\n"
   ]
  },
  {
   "cell_type": "code",
   "execution_count": 202,
   "metadata": {},
   "outputs": [
    {
     "data": {
      "text/plain": [
       "'tt4481220'"
      ]
     },
     "execution_count": 202,
     "metadata": {},
     "output_type": "execute_result"
    }
   ],
   "source": [
    "show_id"
   ]
  },
  {
   "cell_type": "markdown",
   "metadata": {},
   "source": [
    "### total votes"
   ]
  },
  {
   "cell_type": "code",
   "execution_count": 203,
   "metadata": {
    "scrolled": false
   },
   "outputs": [
    {
     "ename": "IndexError",
     "evalue": "list index out of range",
     "output_type": "error",
     "traceback": [
      "\u001b[0;31m---------------------------------------------------------------------------\u001b[0m",
      "\u001b[0;31mIndexError\u001b[0m                                Traceback (most recent call last)",
      "\u001b[0;32m<ipython-input-203-233be24ea8aa>\u001b[0m in \u001b[0;36m<module>\u001b[0;34m\u001b[0m\n\u001b[1;32m      1\u001b[0m \u001b[0mtable1\u001b[0m \u001b[0;34m=\u001b[0m \u001b[0msoup\u001b[0m\u001b[0;34m.\u001b[0m\u001b[0mfind_all\u001b[0m\u001b[0;34m(\u001b[0m\u001b[0;34m'div'\u001b[0m\u001b[0;34m,\u001b[0m \u001b[0mclass_\u001b[0m\u001b[0;34m=\u001b[0m\u001b[0;34m'smallcell'\u001b[0m\u001b[0;34m)\u001b[0m\u001b[0;34m\u001b[0m\u001b[0;34m\u001b[0m\u001b[0m\n\u001b[0;32m----> 2\u001b[0;31m \u001b[0mtotal_ratings\u001b[0m \u001b[0;34m=\u001b[0m\u001b[0mtable1\u001b[0m\u001b[0;34m[\u001b[0m\u001b[0;36m0\u001b[0m\u001b[0;34m]\u001b[0m\u001b[0;34m.\u001b[0m\u001b[0mget_text\u001b[0m\u001b[0;34m(\u001b[0m\u001b[0;34m)\u001b[0m\u001b[0;34m.\u001b[0m\u001b[0msplit\u001b[0m\u001b[0;34m(\u001b[0m\u001b[0;34m\"\\n\"\u001b[0m\u001b[0;34m)\u001b[0m\u001b[0;34m[\u001b[0m\u001b[0;36m2\u001b[0m\u001b[0;34m]\u001b[0m\u001b[0;34m.\u001b[0m\u001b[0mstrip\u001b[0m\u001b[0;34m(\u001b[0m\u001b[0;34m)\u001b[0m\u001b[0;34m\u001b[0m\u001b[0;34m\u001b[0m\u001b[0m\n\u001b[0m\u001b[1;32m      3\u001b[0m \u001b[0mtotal_ratings\u001b[0m\u001b[0;34m\u001b[0m\u001b[0;34m\u001b[0m\u001b[0m\n",
      "\u001b[0;31mIndexError\u001b[0m: list index out of range"
     ]
    }
   ],
   "source": [
    "table1 = soup.find_all('div', class_='smallcell')\n",
    "\n",
    "total_ratings =table1[0].get_text().split(\"\\n\")[2].strip()\n",
    "total_ratings"
   ]
  },
  {
   "cell_type": "code",
   "execution_count": 204,
   "metadata": {},
   "outputs": [
    {
     "ename": "IndexError",
     "evalue": "list index out of range",
     "output_type": "error",
     "traceback": [
      "\u001b[0;31m---------------------------------------------------------------------------\u001b[0m",
      "\u001b[0;31mIndexError\u001b[0m                                Traceback (most recent call last)",
      "\u001b[0;32m<ipython-input-204-6b0acfa35bc6>\u001b[0m in \u001b[0;36m<module>\u001b[0;34m\u001b[0m\n\u001b[0;32m----> 1\u001b[0;31m \u001b[0mtable1\u001b[0m\u001b[0;34m[\u001b[0m\u001b[0;36m0\u001b[0m\u001b[0;34m]\u001b[0m\u001b[0;34m\u001b[0m\u001b[0;34m\u001b[0m\u001b[0m\n\u001b[0m",
      "\u001b[0;31mIndexError\u001b[0m: list index out of range"
     ]
    }
   ],
   "source": [
    "table1[0]"
   ]
  },
  {
   "cell_type": "markdown",
   "metadata": {},
   "source": [
    "### All ages \n",
    "All, Female and Male "
   ]
  },
  {
   "cell_type": "code",
   "execution_count": 153,
   "metadata": {},
   "outputs": [],
   "source": [
    "table = soup.find_all('div', class_='bigcell')"
   ]
  },
  {
   "cell_type": "code",
   "execution_count": 154,
   "metadata": {},
   "outputs": [
    {
     "data": {
      "text/plain": [
       "[<div class=\"bigcell\">9.0</div>,\n",
       " <div class=\"bigcell\">9.2</div>,\n",
       " <div class=\"bigcell\">9.1</div>,\n",
       " <div class=\"bigcell\">8.8</div>,\n",
       " <div class=\"bigcell\">8.1</div>,\n",
       " <div class=\"bigcell\">9.0</div>,\n",
       " <div class=\"bigcell\">9.2</div>,\n",
       " <div class=\"bigcell\">9.1</div>,\n",
       " <div class=\"bigcell\">8.8</div>,\n",
       " <div class=\"bigcell\">8.2</div>,\n",
       " <div class=\"bigcell\">8.9</div>,\n",
       " <div class=\"bigcell\">9.0</div>,\n",
       " <div class=\"bigcell\">9.0</div>,\n",
       " <div class=\"bigcell\">8.8</div>,\n",
       " <div class=\"bigcell\">8.0</div>,\n",
       " <div class=\"bigcell\">7.4</div>,\n",
       " <div class=\"bigcell\">8.8</div>,\n",
       " <div class=\"bigcell\">8.9</div>]"
      ]
     },
     "execution_count": 154,
     "metadata": {},
     "output_type": "execute_result"
    }
   ],
   "source": [
    "table"
   ]
  },
  {
   "cell_type": "code",
   "execution_count": 193,
   "metadata": {},
   "outputs": [],
   "source": [
    "ratings_num =[]\n",
    "ratings = []\n",
    "for i in range(len(table)-3):\n",
    "    ratings.append(table[i].get_text())\n",
    "ratings.insert(0,total_ratings)    \n",
    "for i in range(len(ratings)):\n",
    "    try:\n",
    "        ratings_num.append(locale.atof(ratings[i]))\n",
    "    except:\n",
    "        ratings_num.append(None)\n",
    "        continue\n",
    "ratings_num.insert(0,show_id)        \n",
    "rating_tuple = tuple(ratings_num)        "
   ]
  },
  {
   "cell_type": "code",
   "execution_count": 194,
   "metadata": {},
   "outputs": [
    {
     "data": {
      "text/plain": [
       "['197,654',\n",
       " '9.0',\n",
       " '9.2',\n",
       " '9.1',\n",
       " '8.8',\n",
       " '8.1',\n",
       " '9.0',\n",
       " '9.2',\n",
       " '9.1',\n",
       " '8.8',\n",
       " '8.2',\n",
       " '8.9',\n",
       " '9.0',\n",
       " '9.0',\n",
       " '8.8',\n",
       " '8.0']"
      ]
     },
     "execution_count": 194,
     "metadata": {},
     "output_type": "execute_result"
    }
   ],
   "source": [
    "ratings"
   ]
  },
  {
   "cell_type": "code",
   "execution_count": 195,
   "metadata": {
    "scrolled": true
   },
   "outputs": [
    {
     "data": {
      "text/plain": [
       "('tt0877057',\n",
       " 197654.0,\n",
       " 9.0,\n",
       " 9.2,\n",
       " 9.1,\n",
       " 8.8,\n",
       " 8.1,\n",
       " 9.0,\n",
       " 9.2,\n",
       " 9.1,\n",
       " 8.8,\n",
       " 8.2,\n",
       " 8.9,\n",
       " 9.0,\n",
       " 9.0,\n",
       " 8.8,\n",
       " 8.0)"
      ]
     },
     "execution_count": 195,
     "metadata": {},
     "output_type": "execute_result"
    }
   ],
   "source": [
    "rating_tuple = tuple(ratings_num)\n",
    "rating_tuple"
   ]
  },
  {
   "cell_type": "code",
   "execution_count": 196,
   "metadata": {},
   "outputs": [
    {
     "data": {
      "text/plain": [
       "17"
      ]
     },
     "execution_count": 196,
     "metadata": {},
     "output_type": "execute_result"
    }
   ],
   "source": [
    "len(rating_tuple)"
   ]
  },
  {
   "cell_type": "markdown",
   "metadata": {},
   "source": [
    "### Total ratings "
   ]
  },
  {
   "cell_type": "code",
   "execution_count": 205,
   "metadata": {},
   "outputs": [],
   "source": [
    "d = {\"show_id\": show_id, \"Total_reviews\": total_reviews} \n",
    "\n",
    "\n"
   ]
  },
  {
   "cell_type": "code",
   "execution_count": 212,
   "metadata": {
    "collapsed": true
   },
   "outputs": [
    {
     "data": {
      "text/plain": [
       "('tt3032476',\n",
       " '264,260',\n",
       " '8.7',\n",
       " '8.7',\n",
       " '8.8',\n",
       " '8.6',\n",
       " '8.5',\n",
       " '8.7',\n",
       " '8.6',\n",
       " '8.8',\n",
       " '8.6',\n",
       " '8.5',\n",
       " '8.5',\n",
       " '8.8',\n",
       " '8.5',\n",
       " '8.5',\n",
       " '8.5')"
      ]
     },
     "execution_count": 212,
     "metadata": {},
     "output_type": "execute_result"
    }
   ],
   "source": [
    "tuple(d.values())"
   ]
  },
  {
   "cell_type": "code",
   "execution_count": 169,
   "metadata": {},
   "outputs": [
    {
     "data": {
      "text/plain": [
       "'https://www.imdb.com/title/tt0877057/ratings?ref_=tt_ov_rt'"
      ]
     },
     "execution_count": 169,
     "metadata": {},
     "output_type": "execute_result"
    }
   ],
   "source": [
    "new_url"
   ]
  },
  {
   "cell_type": "code",
   "execution_count": 198,
   "metadata": {
    "collapsed": true
   },
   "outputs": [
    {
     "data": {
      "text/html": [
       "<div>\n",
       "<style scoped>\n",
       "    .dataframe tbody tr th:only-of-type {\n",
       "        vertical-align: middle;\n",
       "    }\n",
       "\n",
       "    .dataframe tbody tr th {\n",
       "        vertical-align: top;\n",
       "    }\n",
       "\n",
       "    .dataframe thead th {\n",
       "        text-align: right;\n",
       "    }\n",
       "</style>\n",
       "<table border=\"1\" class=\"dataframe\">\n",
       "  <thead>\n",
       "    <tr style=\"text-align: right;\">\n",
       "      <th></th>\n",
       "      <th>Pets and Fruits</th>\n",
       "      <th>C1</th>\n",
       "      <th>C2</th>\n",
       "    </tr>\n",
       "  </thead>\n",
       "  <tbody>\n",
       "    <tr>\n",
       "      <td>0</td>\n",
       "      <td>Apples</td>\n",
       "      <td>1.0</td>\n",
       "      <td>1.0</td>\n",
       "    </tr>\n",
       "    <tr>\n",
       "      <td>1</td>\n",
       "      <td>Oranges</td>\n",
       "      <td>2.0</td>\n",
       "      <td>2.0</td>\n",
       "    </tr>\n",
       "    <tr>\n",
       "      <td>2</td>\n",
       "      <td>Puppies</td>\n",
       "      <td>3.0</td>\n",
       "      <td>3.0</td>\n",
       "    </tr>\n",
       "    <tr>\n",
       "      <td>3</td>\n",
       "      <td>Ducks</td>\n",
       "      <td>4.0</td>\n",
       "      <td>4.0</td>\n",
       "    </tr>\n",
       "    <tr>\n",
       "      <td>4</td>\n",
       "      <td>Apples</td>\n",
       "      <td>1.0</td>\n",
       "      <td>1.0</td>\n",
       "    </tr>\n",
       "    <tr>\n",
       "      <td>5</td>\n",
       "      <td>Oranges</td>\n",
       "      <td>2.0</td>\n",
       "      <td>2.0</td>\n",
       "    </tr>\n",
       "    <tr>\n",
       "      <td>6</td>\n",
       "      <td>Puppies</td>\n",
       "      <td>3.0</td>\n",
       "      <td>3.0</td>\n",
       "    </tr>\n",
       "    <tr>\n",
       "      <td>7</td>\n",
       "      <td>Ducks</td>\n",
       "      <td>4.0</td>\n",
       "      <td>4.0</td>\n",
       "    </tr>\n",
       "    <tr>\n",
       "      <td>8</td>\n",
       "      <td>Apples</td>\n",
       "      <td>1.0</td>\n",
       "      <td>1.0</td>\n",
       "    </tr>\n",
       "    <tr>\n",
       "      <td>9</td>\n",
       "      <td>Oranges</td>\n",
       "      <td>2.0</td>\n",
       "      <td>2.0</td>\n",
       "    </tr>\n",
       "    <tr>\n",
       "      <td>10</td>\n",
       "      <td>Puppies</td>\n",
       "      <td>3.0</td>\n",
       "      <td>3.0</td>\n",
       "    </tr>\n",
       "    <tr>\n",
       "      <td>11</td>\n",
       "      <td>Ducks</td>\n",
       "      <td>4.0</td>\n",
       "      <td>4.0</td>\n",
       "    </tr>\n",
       "    <tr>\n",
       "      <td>12</td>\n",
       "      <td>Apples</td>\n",
       "      <td>1.0</td>\n",
       "      <td>1.0</td>\n",
       "    </tr>\n",
       "    <tr>\n",
       "      <td>13</td>\n",
       "      <td>Oranges</td>\n",
       "      <td>2.0</td>\n",
       "      <td>2.0</td>\n",
       "    </tr>\n",
       "    <tr>\n",
       "      <td>14</td>\n",
       "      <td>Puppies</td>\n",
       "      <td>3.0</td>\n",
       "      <td>3.0</td>\n",
       "    </tr>\n",
       "    <tr>\n",
       "      <td>15</td>\n",
       "      <td>Ducks</td>\n",
       "      <td>4.0</td>\n",
       "      <td>4.0</td>\n",
       "    </tr>\n",
       "    <tr>\n",
       "      <td>16</td>\n",
       "      <td>Apples</td>\n",
       "      <td>1.0</td>\n",
       "      <td>1.0</td>\n",
       "    </tr>\n",
       "    <tr>\n",
       "      <td>17</td>\n",
       "      <td>Oranges</td>\n",
       "      <td>2.0</td>\n",
       "      <td>2.0</td>\n",
       "    </tr>\n",
       "    <tr>\n",
       "      <td>18</td>\n",
       "      <td>Puppies</td>\n",
       "      <td>3.0</td>\n",
       "      <td>3.0</td>\n",
       "    </tr>\n",
       "    <tr>\n",
       "      <td>19</td>\n",
       "      <td>Ducks</td>\n",
       "      <td>4.0</td>\n",
       "      <td>4.0</td>\n",
       "    </tr>\n",
       "  </tbody>\n",
       "</table>\n",
       "</div>"
      ],
      "text/plain": [
       "   Pets and Fruits   C1   C2\n",
       "0           Apples  1.0  1.0\n",
       "1          Oranges  2.0  2.0\n",
       "2          Puppies  3.0  3.0\n",
       "3            Ducks  4.0  4.0\n",
       "4           Apples  1.0  1.0\n",
       "5          Oranges  2.0  2.0\n",
       "6          Puppies  3.0  3.0\n",
       "7            Ducks  4.0  4.0\n",
       "8           Apples  1.0  1.0\n",
       "9          Oranges  2.0  2.0\n",
       "10         Puppies  3.0  3.0\n",
       "11           Ducks  4.0  4.0\n",
       "12          Apples  1.0  1.0\n",
       "13         Oranges  2.0  2.0\n",
       "14         Puppies  3.0  3.0\n",
       "15           Ducks  4.0  4.0\n",
       "16          Apples  1.0  1.0\n",
       "17         Oranges  2.0  2.0\n",
       "18         Puppies  3.0  3.0\n",
       "19           Ducks  4.0  4.0"
      ]
     },
     "execution_count": 198,
     "metadata": {},
     "output_type": "execute_result"
    }
   ],
   "source": []
  },
  {
   "cell_type": "code",
   "execution_count": 199,
   "metadata": {},
   "outputs": [],
   "source": []
  },
  {
   "cell_type": "code",
   "execution_count": null,
   "metadata": {},
   "outputs": [],
   "source": []
  },
  {
   "cell_type": "code",
   "execution_count": null,
   "metadata": {},
   "outputs": [],
   "source": []
  },
  {
   "cell_type": "markdown",
   "metadata": {},
   "source": [
    "### Total ratings "
   ]
  },
  {
   "cell_type": "code",
   "execution_count": null,
   "metadata": {},
   "outputs": [],
   "source": []
  },
  {
   "cell_type": "markdown",
   "metadata": {},
   "source": [
    "## Get data from single website "
   ]
  },
  {
   "cell_type": "code",
   "execution_count": null,
   "metadata": {},
   "outputs": [],
   "source": [
    "for url in urls:\n",
    "    page = requests.get(url, headers = headers)\n",
    "    # include code to do status check\n",
    "    if page.status_code != 200:\n",
    "        print(page.status_code)\n",
    "    \n",
    "    #imagine we have gotten the contents of the page in the soup variable\n",
    "    soup = BeautifulSoup(page.content, 'html.parser')\n",
    "    items = soup.select(' .specific_class')\n",
    "    \n",
    "    #check to make sure we have items of that class\n",
    "    if items:\n",
    "        #continue processing the data\n",
    "    else:\n",
    "        print(\"Data is coming back blank\")"
   ]
  },
  {
   "cell_type": "code",
   "execution_count": null,
   "metadata": {},
   "outputs": [],
   "source": []
  },
  {
   "cell_type": "markdown",
   "metadata": {},
   "source": [
    "## create a table in db for ratings\n"
   ]
  },
  {
   "cell_type": "markdown",
   "metadata": {},
   "source": [
    "### Total ratings "
   ]
  },
  {
   "cell_type": "code",
   "execution_count": 2,
   "metadata": {},
   "outputs": [],
   "source": [
    "cnx = mysql.connector.connect(host=config.host,\n",
    "                              user=config.user,\n",
    "                              password=config.password)\n",
    "cursor = cnx.cursor()"
   ]
  },
  {
   "cell_type": "code",
   "execution_count": 147,
   "metadata": {},
   "outputs": [],
   "source": [
    "## Create new DB\n",
    "q1 = 'CREATE DATABASE TVSHOWS'\n",
    "\n",
    "#cursor.execute(q1)"
   ]
  },
  {
   "cell_type": "code",
   "execution_count": 211,
   "metadata": {},
   "outputs": [],
   "source": [
    "cnx = mysql.connector.connect(host=config.host,\n",
    "                              user=config.user,\n",
    "                              password=config.password,\n",
    "                              database='TVSHOWS')\n",
    "cursor = cnx.cursor()"
   ]
  },
  {
   "cell_type": "code",
   "execution_count": 212,
   "metadata": {},
   "outputs": [],
   "source": [
    "q3 = \"\"\"\n",
    "TRUNCATE TABLE RATINGS;\n",
    "\"\"\""
   ]
  },
  {
   "cell_type": "code",
   "execution_count": 213,
   "metadata": {},
   "outputs": [
    {
     "ename": "TypeError",
     "evalue": "execute() missing 1 required positional argument: 'operation'",
     "output_type": "error",
     "traceback": [
      "\u001b[0;31m---------------------------------------------------------------------------\u001b[0m",
      "\u001b[0;31mTypeError\u001b[0m                                 Traceback (most recent call last)",
      "\u001b[0;32m<ipython-input-213-3b2f42672d2c>\u001b[0m in \u001b[0;36m<module>\u001b[0;34m\u001b[0m\n\u001b[0;32m----> 1\u001b[0;31m \u001b[0mcursor\u001b[0m\u001b[0;34m.\u001b[0m\u001b[0mexecute\u001b[0m\u001b[0;34m(\u001b[0m\u001b[0;34m)\u001b[0m\u001b[0;34m\u001b[0m\u001b[0;34m\u001b[0m\u001b[0m\n\u001b[0m",
      "\u001b[0;31mTypeError\u001b[0m: execute() missing 1 required positional argument: 'operation'"
     ]
    }
   ],
   "source": [
    "cursor.execute(q3)"
   ]
  },
  {
   "cell_type": "code",
   "execution_count": 38,
   "metadata": {},
   "outputs": [],
   "source": [
    "# Create a table for the RATINGS in TVSHOWS\n",
    "q2 =\"\"\"CREATE TABLE RATINGS (\n",
    "show_id varchar(50) PRIMARY KEY,\n",
    "total_reviews int,\n",
    "all_all_ages float,\n",
    "all_less_than_18 float,\n",
    "all_18_29 float,\n",
    "all_30_44 float,\n",
    "all_older_than_45 float,\n",
    "male_All_Ages float,\n",
    "male_less_than_18 float,\n",
    "male_18_29 float,\n",
    "male_30_44 float,\n",
    "male_older_than_45 float,\n",
    "female_All_Ages float,\n",
    "female_less_than_18 float,\n",
    "female_18_29 float,\n",
    "female_30_44 float,\n",
    "female_older_than_45 float\n",
    ")\n",
    ";\n",
    "\"\"\""
   ]
  },
  {
   "cell_type": "code",
   "execution_count": 39,
   "metadata": {},
   "outputs": [],
   "source": [
    "cursor.execute(q2)"
   ]
  },
  {
   "cell_type": "code",
   "execution_count": 109,
   "metadata": {},
   "outputs": [],
   "source": [
    "cursor.execute(\"\"\"INSERT INTO RATINGS \n",
    "            (show_id, total_reviews, all_all_ages, all_less_than_18, all_18_29, all_30_44, all_older_than_45,\n",
    "            male_All_Ages, male_less_than_18, male_18_29, male_30_44, male_older_than_45,\n",
    "            female_All_Ages, female_less_than_18, female_18_29, female_30_44,female_older_than_45) \n",
    "             VALUES (%s, %s, %s, %s, %s, %s, %s, %s, %s, %s, %s, %s, %s, %s, %s, %s, %s)\"\"\", rating_tuple)\n",
    "cnx.commit()"
   ]
  },
  {
   "cell_type": "markdown",
   "metadata": {},
   "source": [
    "## GET TVSHOWS INFO FROM ID\n"
   ]
  },
  {
   "cell_type": "markdown",
   "metadata": {},
   "source": [
    "### TV ID FROM NETFLIX TABLE"
   ]
  },
  {
   "cell_type": "code",
   "execution_count": 209,
   "metadata": {},
   "outputs": [],
   "source": [
    "q5 = \"\"\" \n",
    "SELECT imdbID FROM Hulu \n",
    "\"\"\"\n",
    "cursor.execute(q5)\n",
    "shows_id = cursor.fetchall() "
   ]
  },
  {
   "cell_type": "code",
   "execution_count": 210,
   "metadata": {
    "collapsed": true
   },
   "outputs": [
    {
     "data": {
      "text/plain": [
       "[('tt2861424',),\n",
       " ('tt1355642',),\n",
       " ('tt1656192',),\n",
       " ('tt0303461',),\n",
       " ('tt1865718',),\n",
       " ('tt0213338',),\n",
       " ('tt4508902',),\n",
       " ('tt9335498',),\n",
       " ('tt2098220',),\n",
       " ('tt3718778',),\n",
       " ('tt8788458',),\n",
       " ('tt2560140',),\n",
       " ('tt2375379',),\n",
       " ('tt0286486',),\n",
       " ('tt0988818',),\n",
       " ('tt1305826',),\n",
       " ('tt0092455',),\n",
       " ('tt0407362',),\n",
       " ('tt1486217',),\n",
       " ('tt6723522',),\n",
       " ('tt2306299',),\n",
       " ('tt7005920',),\n",
       " ('tt0187664',),\n",
       " ('tt0994314',),\n",
       " ('tt0417373',),\n",
       " ('tt0038975',),\n",
       " ('tt1572503',),\n",
       " ('tt0423731',),\n",
       " ('tt3647998',),\n",
       " ('tt5626028',),\n",
       " ('tt1979319',),\n",
       " ('tt0214341',),\n",
       " ('tt0988824',),\n",
       " ('tt2505934',),\n",
       " ('tt3358020',),\n",
       " ('tt2305005',),\n",
       " ('tt0118480',),\n",
       " ('tt0185133',),\n",
       " ('tt4925000',),\n",
       " ('tt0433498',),\n",
       " ('tt4093626',),\n",
       " ('tt1710308',),\n",
       " ('tt2359704',),\n",
       " ('tt2467372',),\n",
       " ('tt4047038',),\n",
       " ('tt0796366',),\n",
       " ('tt0200267',),\n",
       " ('tt0455275',),\n",
       " ('tt0373732',),\n",
       " ('tt2402207',),\n",
       " ('tt0093409',),\n",
       " ('tt0844653',),\n",
       " ('tt0214341',),\n",
       " ('tt5715524',),\n",
       " ('tt0112178',),\n",
       " ('tt2805096',),\n",
       " ('tt0417373',),\n",
       " ('tt4975856',),\n",
       " ('tt9335498',),\n",
       " ('tt2261391',),\n",
       " ('tt1135300',),\n",
       " ('tt1981558',),\n",
       " ('tt0162661',),\n",
       " ('tt4396630',),\n",
       " ('tt3230454',),\n",
       " ('tt0251439',),\n",
       " ('tt0373732',),\n",
       " ('tt0065528',),\n",
       " ('tt1199099',),\n",
       " ('tt1214085',),\n",
       " ('tt0495212',),\n",
       " ('tt4145054',),\n",
       " ('tt0460690',),\n",
       " ('tt1286039',),\n",
       " ('tt0374455',),\n",
       " ('tt0465316',),\n",
       " ('tt1091191',),\n",
       " ('tt0114327',),\n",
       " ('tt3663490',),\n",
       " ('tt0244365',),\n",
       " ('tt4474344',),\n",
       " ('tt0434665',),\n",
       " ('tt1528406',),\n",
       " ('tt2305005',),\n",
       " ('tt0247082',),\n",
       " ('tt3061046',),\n",
       " ('tt0096684',),\n",
       " ('tt0233142',),\n",
       " ('tt1731697',),\n",
       " ('tt2250192',),\n",
       " ('tt1710308',),\n",
       " ('tt0988818',),\n",
       " ('tt2359704',),\n",
       " ('tt0071042',),\n",
       " ('tt0063951',),\n",
       " ('tt4903242',),\n",
       " ('tt0994314',),\n",
       " ('tt1319900',),\n",
       " ('tt2379308',),\n",
       " ('tt1942683',),\n",
       " ('tt0407362',),\n",
       " ('tt4655480',),\n",
       " ('tt7441658',),\n",
       " ('tt6342474',),\n",
       " ('tt2230051',),\n",
       " ('tt0285335',),\n",
       " ('tt0257076',),\n",
       " ('tt3742982',),\n",
       " ('tt2568204',),\n",
       " ('tt0160904',),\n",
       " ('tt0112167',),\n",
       " ('tt0248654',),\n",
       " ('tt1552112',),\n",
       " ('tt2184339',),\n",
       " ('tt3358020',),\n",
       " ('tt0430357',),\n",
       " ('tt0290223',),\n",
       " ('tt0114787',),\n",
       " ('tt8788458',),\n",
       " ('tt3597790',),\n",
       " ('tt0038975',),\n",
       " ('tt6148324',),\n",
       " ('tt2758770',),\n",
       " ('tt0185103',),\n",
       " ('tt1734537',),\n",
       " ('tt0955308',),\n",
       " ('tt0101188',),\n",
       " ('tt0086662',),\n",
       " ('tt0247827',),\n",
       " ('tt1812523',),\n",
       " ('tt2964642',),\n",
       " ('tt3837246',),\n",
       " ('tt1590961',),\n",
       " ('tt4530422',),\n",
       " ('tt1291150',),\n",
       " ('tt1979319',),\n",
       " ('tt0139774',),\n",
       " ('tt0446809',),\n",
       " ('tt1572503',)]"
      ]
     },
     "execution_count": 210,
     "metadata": {},
     "output_type": "execute_result"
    }
   ],
   "source": [
    "shows_id"
   ]
  },
  {
   "cell_type": "code",
   "execution_count": 147,
   "metadata": {},
   "outputs": [],
   "source": [
    "total_reviews =0"
   ]
  },
  {
   "cell_type": "code",
   "execution_count": 206,
   "metadata": {},
   "outputs": [
    {
     "name": "stdout",
     "output_type": "stream",
     "text": [
      "197,654\n",
      "('tt0877057', 197654.0, 9.0, 9.2, 9.1, 8.8, 8.1, 9.0, 9.2, 9.1, 8.8, 8.2, 8.9, 9.0, 9.0, 8.8, 8.0)\n",
      "39,741\n",
      "('tt2098220', 39741.0, 8.9, 9.0, 9.1, 8.6, 7.0, 8.9, 9.0, 9.1, 8.6, 7.1, 8.7, 8.1, 9.0, 8.2, 7.0)\n",
      "94,572\n",
      "('tt4508902', 94572.0, 8.9, 8.6, 8.9, 8.8, 7.9, 8.9, 8.6, 8.9, 8.8, 8.0, 8.6, 8.0, 8.8, 8.5, 6.6)\n",
      "131,600\n",
      "('tt2560140', 131600.0, 8.8, 8.9, 8.9, 8.6, 7.9, 8.8, 8.9, 8.9, 8.6, 7.9, 8.8, 8.5, 8.9, 8.7, 8.2)\n",
      "56,917\n",
      "('tt0421357', 56917.0, 8.6, 7.8, 8.6, 8.6, 7.6, 8.6, 7.9, 8.6, 8.5, 7.6, 8.6, 6.9, 8.7, 8.7, 7.6)\n",
      "17\n",
      "('tt5443130', 17.0, 5.9, None, 5.1, 5.5, 6.0, 5.1, None, 6.8, 4.3, None, 5.8, None, 1.0, 8.0, 6.0)\n",
      "41,729\n",
      "('tt0112159', 41729.0, 8.6, 8.2, 8.6, 8.5, 7.8, 8.6, 8.2, 8.6, 8.6, 7.8, 8.4, 7.7, 8.4, 8.4, 7.3)\n",
      "10,962\n",
      "('tt3895150', 10962.0, 8.6, 8.9, 8.6, 8.4, 8.1, 8.7, 9.0, 8.7, 8.5, 8.1, 8.3, 8.4, 8.3, 8.3, 8.0)\n",
      "3,179\n",
      "('tt0088595', 3179.0, 8.5, 6.0, 7.5, 8.6, 8.5, 8.5, None, 7.6, 8.6, 8.5, 8.2, 6.0, 6.9, 8.4, 7.8)\n",
      "8,504\n",
      "('tt0161952', 8504.0, 8.5, 8.8, 8.3, 8.6, 6.9, 8.5, 9.2, 8.3, 8.6, 6.8, 8.0, 9.0, 8.0, 8.1, 7.1)\n",
      "5,149\n",
      "('tt2359704', 5149.0, 8.4, 9.0, 8.4, 7.9, 7.1, 8.3, 9.0, 8.5, 7.9, 7.2, 7.7, 10.0, 8.0, 7.4, 5.9)\n",
      "214\n",
      "('tt5514632', 214.0, 6.8, None, 6.8, 6.7, 7.0, 6.8, None, 7.0, 6.7, 6.8, 6.7, None, 6.4, 6.3, 7.4)\n",
      "6,825\n",
      "('tt7078180', 6825.0, 8.4, 9.1, 8.5, 8.2, 8.1, 8.4, 9.0, 8.5, 8.1, 8.2, 8.5, 9.3, 8.4, 8.4, 7.9)\n",
      "12,839\n",
      "('tt0948103', 12839.0, 8.3, 7.6, 8.4, 8.2, 7.1, 8.3, 7.8, 8.4, 8.2, 7.2, 7.9, 6.5, 7.9, 8.0, 6.1)\n",
      "6,136\n",
      "('tt1773185', 6136.0, 8.3, 7.7, 8.4, 8.2, 7.8, 8.3, 7.6, 8.4, 8.2, 7.8, 8.3, 9.0, 8.4, 8.1, 7.4)\n",
      "6,650\n",
      "('tt1913273', 6650.0, 8.2, 8.2, 8.3, 8.1, 7.6, 8.3, 8.3, 8.4, 8.1, 7.6, 8.1, 7.8, 8.2, 7.8, 7.8)\n",
      "3,261\n",
      "('tt1160524', 3261.0, 7.0, 6.9, 7.1, 6.8, 6.8, 7.0, 6.9, 7.1, 6.8, 6.6, 7.3, None, 7.3, 7.1, 7.5)\n",
      "7,255\n",
      "('tt0816397', 7255.0, 8.2, 6.4, 8.4, 8.1, 7.0, 7.7, 6.2, 8.0, 7.4, 6.0, 8.6, 7.8, 8.6, 8.6, 8.3)\n",
      "2,444\n",
      "('tt9089294', 2444.0, 7.2, 7.5, 7.2, 7.0, 6.6, 7.1, 7.4, 7.2, 7.0, 6.5, 7.6, 8.5, 7.7, 7.6, 7.9)\n",
      "3,563\n",
      "('tt1105263', 3563.0, 7.2, 7.0, 7.3, 7.1, 6.1, 7.1, 7.0, 7.3, 7.1, 6.2, 7.6, None, 7.6, 7.7, 6.3)\n",
      "867\n",
      "('tt8963328', 867.0, 8.1, None, 7.9, 8.2, 6.7, 8.1, None, 8.0, 8.2, 6.5, 7.4, None, 6.9, 7.7, 8.0)\n",
      "1,410\n",
      "('tt9058134', 1410.0, 8.0, 10.0, 8.1, 8.0, 7.6, 8.0, None, 8.1, 7.9, 7.7, 7.9, None, 7.7, 8.3, 7.1)\n",
      "1,819\n",
      "('tt6352180', 1819.0, 8.0, 7.1, 8.0, 7.7, 7.6, 7.8, 7.0, 7.9, 7.6, 7.6, 8.2, 9.0, 8.3, 8.0, 7.2)\n",
      "3,837\n",
      "('tt1634208', 3837.0, 8.0, 8.2, 8.1, 7.8, 7.1, 7.8, 8.0, 7.9, 7.6, 6.9, 8.2, 8.7, 8.3, 7.9, 7.2)\n",
      "7,427\n",
      "('tt1298820', 7427.0, 8.6, 8.7, 8.8, 8.2, 7.0, 8.7, 8.7, 8.9, 8.2, 7.2, 8.1, 9.0, 8.4, 7.7, 5.9)\n",
      "334\n",
      "('tt6667268', 334.0, 5.3, 10.0, 5.4, 5.2, 7.3, 5.3, 10.0, 5.4, 5.2, 7.3, 5.5, None, 9.0, 6.5, None)\n",
      "1,202\n",
      "('tt9103932', 1202.0, 8.8, 9.0, 8.9, 8.8, 8.8, 8.8, 9.0, 8.9, 8.7, 8.8, 9.0, None, 8.7, 9.2, 8.9)\n",
      "3,739\n",
      "('tt2069688', 3739.0, 8.7, 7.0, 8.8, 8.7, 8.6, 8.7, 7.0, 8.8, 8.7, 8.6, 8.6, None, 8.5, 8.7, 8.4)\n",
      "83\n",
      "('tt4356698', 83.0, 7.1, None, 7.5, 6.9, 6.9, 7.0, None, 7.8, 6.9, 7.0, 6.9, None, 7.0, 7.0, 8.0)\n",
      "44,783\n",
      "('tt8398600', 44783.0, 8.4, 8.5, 8.4, 8.4, 8.5, 8.4, 8.5, 8.4, 8.3, 8.5, 8.6, 8.1, 8.5, 8.5, 8.8)\n",
      "1,732\n",
      "('tt7818686', 1732.0, 8.4, 8.5, 8.5, 8.2, 8.0, 8.3, 8.5, 8.5, 8.2, 8.0, 8.3, 10.0, 8.6, 8.0, 7.9)\n",
      "9,156\n",
      "('tt1830379', 9156.0, 8.4, 8.5, 8.5, 8.2, 8.0, 8.3, 8.4, 8.5, 8.2, 8.1, 8.3, None, 8.4, 8.1, 8.0)\n",
      "385\n",
      "('tt5907228', 385.0, 8.3, None, 8.4, 8.3, 7.9, 8.2, None, 8.5, 8.3, 7.9, 8.0, None, 7.0, 8.4, 8.2)\n",
      "176\n",
      "('tt2078263', 176.0, 8.3, None, 8.5, 8.2, 8.4, 8.3, None, 8.2, 8.4, 8.0, 8.4, None, 9.0, 7.8, 8.6)\n",
      "75,156\n",
      "('tt7493974', 75156.0, 8.2, 8.1, 8.3, 8.0, 8.1, 8.1, 8.1, 8.3, 8.0, 8.0, 8.2, 7.4, 8.2, 8.1, 8.3)\n",
      "1,045\n",
      "('tt0224464', 1045.0, 8.2, None, 8.1, 8.1, 8.2, 8.1, None, 8.1, 8.0, 8.3, 8.1, None, 7.8, 8.1, 8.3)\n",
      "5,044\n",
      "('tt8387348', 5044.0, 7.8, 9.0, 7.9, 7.7, 7.6, 7.8, 9.8, 7.8, 7.7, 7.6, 7.8, 6.0, 7.9, 7.7, 7.4)\n",
      "62\n",
      "('tt4622718', 62.0, 8.2, None, 8.6, 7.9, 8.4, 7.9, None, 8.6, 7.3, 8.2, 9.0, None, None, 9.0, 9.5)\n",
      "3,172\n",
      "('tt8914684', 3172.0, 8.2, 9.0, 8.2, 8.0, 8.3, 8.2, 9.2, 8.2, 8.0, 8.3, 8.3, None, 8.3, 8.3, 8.0)\n",
      "64,442\n",
      "('tt0052520', 64442.0, 9.0, 9.1, 9.0, 9.0, 9.0, 9.0, 9.1, 9.0, 9.0, 9.0, 9.0, 9.4, 9.0, 9.0, 9.0)\n",
      "542\n",
      "('tt0392089', 542.0, 7.4, None, 7.5, 7.5, 6.9, 7.5, None, 7.4, 7.5, 7.2, 7.2, None, 8.1, 7.0, 6.3)\n",
      "159,977\n",
      "('tt0098936', 159977.0, 8.8, 9.2, 8.9, 8.8, 8.5, 8.8, 9.2, 8.9, 8.8, 8.5, 8.8, 9.5, 8.9, 8.8, 8.4)\n",
      "83\n",
      "('tt4356698', 83.0, 7.1, None, 7.5, 6.9, 6.9, 7.0, None, 7.8, 6.9, 7.0, 6.9, None, 7.0, 7.0, 8.0)\n",
      "921\n",
      "('tt7211930', 921.0, 8.7, 8.0, 8.8, 8.4, 7.8, 8.7, 8.0, 8.8, 8.6, 8.5, 7.9, 8.0, 8.8, 7.3, 5.9)\n",
      "12\n",
      "('tt1136825', 12.0, 7.1, None, 7.0, 7.2, 6.8, 7.0, None, 7.0, 7.0, 6.8, 8.0, None, None, 8.0, None)\n",
      "71\n",
      "('tt4792792', 71.0, 7.9, None, 8.4, 7.3, 8.5, 7.4, None, 7.4, 7.1, 8.5, 8.4, None, 10.0, 8.2, None)\n",
      "16\n",
      "('tt6030702', 16.0, 6.6, None, 4.3, 4.4, 9.0, 5.6, None, 4.3, 4.3, 9.0, 6.0, None, None, 6.0, None)\n",
      "6,655\n",
      "('tt7588054', 6655.0, 6.0, 6.8, 6.7, 5.8, 5.5, 4.9, None, 5.8, 4.6, 4.9, 6.9, 7.0, 7.2, 6.8, 6.5)\n",
      "424\n",
      "('tt3088036', 424.0, 8.5, None, 8.9, 7.9, 7.9, 8.4, None, 8.8, 7.9, 7.7, 8.9, None, 9.8, 7.4, 8.7)\n",
      "30\n",
      "('tt8931836', 30.0, 9.2, 10.0, 9.7, 8.5, None, 9.6, None, 9.7, 9.0, None, 7.9, 10.0, 9.0, 8.0, None)\n",
      "334\n",
      "('tt6667268', 334.0, 5.3, 10.0, 5.4, 5.2, 7.3, 5.3, 10.0, 5.4, 5.2, 7.3, 5.5, None, 9.0, 6.5, None)\n",
      "197,654\n",
      "('tt0877057', 197654.0, 9.0, 9.2, 9.1, 8.8, 8.1, 9.0, 9.2, 9.1, 8.8, 8.2, 8.9, 9.0, 9.0, 8.8, 8.0)\n",
      "54,864\n",
      "('tt7137906', 54864.0, 9.0, 9.1, 9.1, 8.9, 8.7, 8.9, 9.0, 9.0, 8.8, 8.6, 9.2, 9.1, 9.3, 9.1, 9.0)\n",
      "94,572\n",
      "('tt4508902', 94572.0, 8.9, 8.6, 8.9, 8.8, 7.9, 8.9, 8.6, 8.9, 8.8, 8.0, 8.6, 8.0, 8.8, 8.5, 6.6)\n",
      "24,618\n",
      "('tt1795096', 24618.0, 8.8, 8.4, 9.0, 8.7, 6.8, 8.7, 8.4, 9.0, 8.7, 6.8, 8.8, None, 9.0, 8.9, 6.5)\n",
      "2,027\n",
      "('tt5332206', 2027.0, 8.8, 6.9, 9.0, 8.6, 8.6, 8.7, 8.2, 8.9, 8.6, 8.5, 8.9, 4.0, 9.2, 8.6, 8.8)\n",
      "159,977\n",
      "('tt0098936', 159977.0, 8.8, 9.2, 8.9, 8.8, 8.5, 8.8, 9.2, 8.9, 8.8, 8.5, 8.8, 9.5, 8.9, 8.8, 8.4)\n",
      "191\n",
      "('tt8736278', 191.0, 7.8, None, 8.0, 7.7, 7.5, 7.7, None, 7.9, 7.6, 7.6, 8.3, None, 9.5, 8.4, 6.0)\n",
      "134\n",
      "('tt7435402', 134.0, 8.3, 10.0, 8.5, 8.0, 8.2, 8.2, 10.0, 8.4, 7.7, 8.0, 9.2, None, 7.7, 9.9, 8.3)\n",
      "114,140\n",
      "('tt6565702', 114140.0, 5.8, 6.2, 5.7, 5.8, 6.0, 5.8, 5.9, 5.7, 5.7, 6.0, 6.0, 6.9, 6.0, 6.0, 6.1)\n",
      "5\n",
      "('tt3338098', 5.0, 7.6, None, 7.0, 7.7, 8.0, 6.7, None, 7.0, 5.0, 8.0, 9.0, None, None, 9.0, None)\n",
      "594\n",
      "('tt1739744', 594.0, 8.7, 10.0, 8.9, 8.3, 8.5, 8.6, 10.0, 8.9, 8.3, 8.4, 7.9, None, 7.9, 6.8, 8.2)\n",
      "22,301\n",
      "('tt1534360', 22301.0, 8.6, 9.3, 8.8, 8.4, 7.1, 8.6, 9.3, 8.8, 8.4, 7.0, 8.4, 10.0, 8.7, 8.3, 7.1)\n",
      "675\n",
      "('tt7433762', 675.0, 8.9, None, 5.2, 5.8, 6.7, 5.6, None, 4.0, 5.4, 6.6, 6.4, None, 6.5, 9.5, 8.0)\n",
      "497\n",
      "('tt5677942', 497.0, 8.6, None, 8.3, 7.6, 9.1, 8.0, None, 7.7, 7.4, 8.9, 8.8, None, 8.7, 8.1, 9.3)\n",
      "494\n",
      "('tt5226192', 494.0, 3.5, 5.0, 3.6, 3.4, 3.6, 3.6, 4.5, 4.2, 3.4, 3.6, 3.4, 5.5, 3.0, 3.5, 3.5)\n",
      "2,721\n",
      "('tt6461346', 2721.0, 8.6, 8.8, 8.8, 8.5, 8.4, 8.6, 9.0, 8.9, 8.5, 8.3, 8.6, 9.5, 8.8, 8.4, 8.6)\n",
      "7,056\n",
      "('tt9398466', 7056.0, 8.5, 6.6, 8.6, 8.4, 8.2, 8.5, 6.3, 8.6, 8.3, 8.2, 8.5, None, 8.5, 8.6, 8.2)\n",
      "3,311\n",
      "('tt2187850', 3311.0, 8.5, 9.7, 8.4, 8.5, 8.3, 8.5, 9.5, 8.4, 8.5, 8.3, 8.5, None, 8.4, 8.6, 8.1)\n",
      "37,186\n",
      "('tt7909970', 37186.0, 8.5, 8.1, 8.5, 8.4, 8.6, 8.4, 7.6, 8.5, 8.3, 8.5, 8.7, 8.5, 8.7, 8.7, 8.8)\n",
      "20,648\n",
      "('tt6205862', 20648.0, 8.4, 8.2, 8.5, 8.3, 8.2, 8.4, 8.0, 8.5, 8.3, 8.2, 8.4, 9.0, 8.5, 8.3, 8.1)\n",
      "12,854\n",
      "('tt4378376', 12854.0, 8.4, 7.5, 8.5, 8.3, 8.4, 8.4, 7.5, 8.5, 8.3, 8.4, 8.5, None, 8.6, 8.4, 8.5)\n",
      "19,592\n",
      "('tt9253866', 19592.0, 9.4, 8.6, 9.4, 9.3, 9.1, 9.3, 8.3, 9.4, 9.3, 9.1, 9.5, 9.5, 9.6, 9.5, 9.2)\n",
      "1,202\n",
      "('tt9103932', 1202.0, 8.8, 9.0, 8.9, 8.8, 8.8, 8.8, 9.0, 8.9, 8.7, 8.8, 9.0, None, 8.7, 9.2, 8.9)\n",
      "4,685\n",
      "('tt7651892', 4685.0, 8.9, 9.8, 9.0, 8.8, 8.6, 8.8, 9.7, 9.0, 8.8, 8.5, 9.0, None, 9.0, 9.0, 8.8)\n",
      "290\n",
      "('tt1074194', 290.0, 7.7, None, 7.2, 7.6, 7.9, 7.6, None, 7.1, 7.5, 7.9, 8.3, None, 7.7, 8.3, 8.2)\n",
      "25\n",
      "('tt9642576', 25.0, 8.8, None, 8.2, 9.3, 8.0, 8.9, None, 8.2, 9.2, 8.0, 10.0, None, None, 10.0, None)\n",
      "191\n",
      "('tt8736278', 191.0, 7.8, None, 8.0, 7.7, 7.5, 7.7, None, 7.9, 7.6, 7.6, 8.3, None, 9.5, 8.4, 6.0)\n",
      "3,739\n",
      "('tt2069688', 3739.0, 8.7, 7.0, 8.8, 8.7, 8.6, 8.7, 7.0, 8.8, 8.7, 8.6, 8.6, None, 8.5, 8.7, 8.4)\n"
     ]
    },
    {
     "name": "stdout",
     "output_type": "stream",
     "text": [
      "8,558\n",
      "('tt8289930', 8558.0, 8.6, 8.0, 8.7, 8.5, 8.4, 8.6, 8.0, 8.7, 8.5, 8.5, 8.7, 7.0, 8.8, 8.5, 8.0)\n",
      "564\n",
      "('tt1877895', 564.0, 8.5, None, 8.6, 8.3, 8.8, 8.1, None, 8.4, 7.8, 8.5, 8.8, None, 8.7, 8.8, 9.2)\n",
      "1,505\n",
      "('tt6133034', 1505.0, 8.5, None, 8.7, 8.4, 8.3, 8.4, None, 8.6, 8.3, 7.9, 8.9, None, 8.9, 8.7, 8.9)\n",
      "3,042\n",
      "('tt6587094', 3042.0, 8.4, 9.0, 8.5, 8.2, 8.4, 8.3, 9.0, 8.5, 8.2, 8.4, 8.4, None, 8.4, 8.3, 8.4)\n",
      "1,099\n",
      "('tt7440274', 1099.0, 8.4, 10.0, 8.8, 7.8, 8.4, 8.2, 10.0, 8.8, 7.7, 8.3, 9.1, None, 8.6, 9.1, 9.2)\n",
      "385\n",
      "('tt5907228', 385.0, 8.3, None, 8.4, 8.3, 7.9, 8.2, None, 8.5, 8.3, 7.9, 8.0, None, 7.0, 8.4, 8.2)\n",
      "176\n",
      "('tt2078263', 176.0, 8.3, None, 8.5, 8.2, 8.4, 8.3, None, 8.2, 8.4, 8.0, 8.4, None, 9.0, 7.8, 8.6)\n",
      "995\n",
      "('tt5144776', 995.0, 8.3, 8.5, 8.3, 8.3, 8.3, 8.2, 9.0, 8.3, 8.2, 8.3, 8.4, None, 8.4, 8.3, 8.5)\n",
      "761\n",
      "('tt10681222', 761.0, 8.0, None, 8.2, 7.9, 7.9, 7.9, None, 8.0, 7.9, 7.8, 8.2, None, 8.4, 7.9, 8.0)\n",
      "1,067\n",
      "('tt4491456', 1067.0, 8.3, 9.0, 8.4, 8.3, 8.2, 8.2, 9.0, 8.4, 8.2, 8.0, 8.5, None, 8.3, 8.6, 8.5)\n",
      "1,039\n",
      "('tt8200004', 1039.0, 8.2, 10.0, 8.2, 8.1, 8.3, 8.1, 10.0, 8.2, 8.0, 8.3, 8.3, 10.0, 8.1, 8.5, 8.2)\n",
      "118,450\n",
      "('tt5104604', 118450.0, 7.9, 8.3, 8.0, 7.7, 7.6, 7.8, 8.3, 8.0, 7.7, 7.5, 8.1, 8.2, 8.2, 8.0, 7.8)\n",
      "16,298\n",
      "('tt8595766', 16298.0, 9.3, 9.4, 9.4, 8.6, 5.2, 9.2, 9.3, 9.4, 8.6, 5.0, 9.3, 10.0, 9.5, 8.5, 5.3)\n",
      "32\n",
      "('tt11152058', 32.0, 9.0, 10.0, 9.7, 9.2, 5.0, 7.0, None, 10.0, 10.0, 1.0, 9.0, 10.0, 9.5, 9.1, 9.0)\n",
      "30\n",
      "('tt8931836', 30.0, 9.2, 10.0, 9.7, 8.5, None, 9.6, None, 9.7, 9.0, None, 7.9, 10.0, 9.0, 8.0, None)\n",
      "18,862\n",
      "('tt8809646', 18862.0, 9.2, 9.8, 9.1, 6.8, 6.1, 9.0, 9.8, 9.1, 6.7, 6.5, 9.3, 9.9, 9.6, 7.0, 3.7)\n",
      "56\n",
      "('tt9011036', 56.0, 9.1, None, 9.1, 8.2, 9.3, 9.0, None, 9.3, 7.6, 9.8, 9.1, None, 8.5, 9.9, 8.7)\n",
      "334\n",
      "('tt6667268', 334.0, 5.3, 10.0, 5.4, 5.2, 7.3, 5.3, 10.0, 5.4, 5.2, 7.3, 5.5, None, 9.0, 6.5, None)\n",
      "197,654\n",
      "('tt0877057', 197654.0, 9.0, 9.2, 9.1, 8.8, 8.1, 9.0, 9.2, 9.1, 8.8, 8.2, 8.9, 9.0, 9.0, 8.8, 8.0)\n",
      "3,002\n",
      "('tt2403201', 3002.0, 9.0, 8.8, 9.0, 8.7, 7.4, 9.0, 8.0, 9.1, 8.8, 8.1, 8.5, 9.0, 8.6, 8.2, 7.1)\n",
      "817\n",
      "('tt4853764', 817.0, 9.0, None, 9.1, 8.7, 8.9, 8.9, None, 9.1, 8.8, 8.5, 8.8, None, 9.0, 8.6, 9.3)\n",
      "2,475\n",
      "('tt2828240', 2475.0, 9.0, 10.0, 9.0, 8.7, 7.5, 8.9, 10.0, 9.0, 8.7, 8.4, 8.7, None, 8.8, 8.6, 6.5)\n",
      "1,202\n",
      "('tt9103932', 1202.0, 8.8, 9.0, 8.9, 8.8, 8.8, 8.8, 9.0, 8.9, 8.7, 8.8, 9.0, None, 8.7, 9.2, 8.9)\n",
      "39,741\n",
      "('tt2098220', 39741.0, 8.9, 9.0, 9.1, 8.6, 7.0, 8.9, 9.0, 9.1, 8.6, 7.1, 8.7, 8.1, 9.0, 8.2, 7.0)\n",
      "94,572\n",
      "('tt4508902', 94572.0, 8.9, 8.6, 8.9, 8.8, 7.9, 8.9, 8.6, 8.9, 8.8, 8.0, 8.6, 8.0, 8.8, 8.5, 6.6)\n",
      "131,600\n",
      "('tt2560140', 131600.0, 8.8, 8.9, 8.9, 8.6, 7.9, 8.8, 8.9, 8.9, 8.6, 7.9, 8.8, 8.5, 8.9, 8.7, 8.2)\n",
      "24,618\n",
      "('tt1795096', 24618.0, 8.8, 8.4, 9.0, 8.7, 6.8, 8.7, 8.4, 9.0, 8.7, 6.8, 8.8, None, 9.0, 8.9, 6.5)\n"
     ]
    },
    {
     "ename": "KeyboardInterrupt",
     "evalue": "",
     "output_type": "error",
     "traceback": [
      "\u001b[0;31m---------------------------------------------------------------------------\u001b[0m",
      "\u001b[0;31mKeyboardInterrupt\u001b[0m                         Traceback (most recent call last)",
      "\u001b[0;32m<ipython-input-206-69bf1a23ed38>\u001b[0m in \u001b[0;36m<module>\u001b[0;34m\u001b[0m\n\u001b[1;32m     42\u001b[0m \u001b[0;31m#              VALUES (%s, %s, %s, %s, %s, %s, %s, %s, %s, %s, %s, %s, %s, %s, %s, %s, %s)\"\"\", rating_tuple)\u001b[0m\u001b[0;34m\u001b[0m\u001b[0;34m\u001b[0m\u001b[0;34m\u001b[0m\u001b[0m\n\u001b[1;32m     43\u001b[0m \u001b[0;31m#     cnx.commit()\u001b[0m\u001b[0;34m\u001b[0m\u001b[0;34m\u001b[0m\u001b[0;34m\u001b[0m\u001b[0m\n\u001b[0;32m---> 44\u001b[0;31m     \u001b[0mtime\u001b[0m\u001b[0;34m.\u001b[0m\u001b[0msleep\u001b[0m\u001b[0;34m(\u001b[0m\u001b[0;36m.1\u001b[0m\u001b[0;34m)\u001b[0m\u001b[0;34m\u001b[0m\u001b[0;34m\u001b[0m\u001b[0m\n\u001b[0m\u001b[1;32m     45\u001b[0m \u001b[0;34m\u001b[0m\u001b[0m\n",
      "\u001b[0;31mKeyboardInterrupt\u001b[0m: "
     ]
    }
   ],
   "source": [
    "total_var = []\n",
    "counter = 0\n",
    "counter_err = 0\n",
    "\n",
    "for i in range(len(shows_id)):\n",
    "    try:\n",
    "        new_url = \"https://www.imdb.com/title/\" + shows_id[i][0]+ \"/ratings?ref_=tt_ov_rt\"\n",
    "        page = requests.get(new_url, headers = headers)\n",
    "        soup = bs(page.content, 'lxml')\n",
    "        show_id = shows_id[i][0]\n",
    "        \n",
    "        #getting total ratings\n",
    "        table1 = soup.find_all('div', class_='smallcell')\n",
    "        total_reviews = table1[0].get_text().split(\"\\n\")[2].strip()\n",
    "        #getting the segmented ratings\n",
    "        table = soup.find_all('div', class_='bigcell')\n",
    "\n",
    "        ratings_num =[]\n",
    "        ratings = []\n",
    "        for i in range(len(table)-3):\n",
    "            ratings.append(table[i].get_text())\n",
    "        ratings.insert(0,total_reviews)    \n",
    "        for i in range(len(ratings)):\n",
    "            try:\n",
    "                ratings_num.append(locale.atof(ratings[i]))\n",
    "            except:\n",
    "                ratings_num.append(None)\n",
    "                continue\n",
    "        ratings_num.insert(0, show_id)        \n",
    "        rating_tuple = tuple(ratings_num)  \n",
    "\n",
    "        total_var.append(rating_tuple)\n",
    "    except:\n",
    "        counter_err +=1\n",
    "        continue\n",
    "    cursor.execute(\"\"\"INSERT INTO RATINGS \n",
    "            (show_id, total_reviews, all_all_ages, all_less_than_18, all_18_29, all_30_44, all_older_than_45,\n",
    "            male_All_Ages, male_less_than_18, male_18_29, male_30_44, male_older_than_45,\n",
    "            female_All_Ages, female_less_than_18, female_18_29, female_30_44,female_older_than_45) \n",
    "             VALUES (%s, %s, %s, %s, %s, %s, %s, %s, %s, %s, %s, %s, %s, %s, %s, %s, %s)\"\"\", rating_tuple)\n",
    "    cnx.commit()\n",
    "    time.sleep(.1)\n",
    "\n"
   ]
  },
  {
   "cell_type": "code",
   "execution_count": 20,
   "metadata": {},
   "outputs": [
    {
     "data": {
      "text/plain": [
       "645"
      ]
     },
     "execution_count": 20,
     "metadata": {},
     "output_type": "execute_result"
    }
   ],
   "source": [
    "    counter_err"
   ]
  },
  {
   "cell_type": "code",
   "execution_count": 22,
   "metadata": {},
   "outputs": [
    {
     "data": {
      "text/plain": [
       "0"
      ]
     },
     "execution_count": 22,
     "metadata": {},
     "output_type": "execute_result"
    }
   ],
   "source": [
    "len(total_var)"
   ]
  },
  {
   "cell_type": "code",
   "execution_count": null,
   "metadata": {},
   "outputs": [],
   "source": []
  }
 ],
 "metadata": {
  "kernelspec": {
   "display_name": "Python 3",
   "language": "python",
   "name": "python3"
  },
  "language_info": {
   "codemirror_mode": {
    "name": "ipython",
    "version": 3
   },
   "file_extension": ".py",
   "mimetype": "text/x-python",
   "name": "python",
   "nbconvert_exporter": "python",
   "pygments_lexer": "ipython3",
   "version": "3.7.4"
  },
  "latex_envs": {
   "LaTeX_envs_menu_present": true,
   "autoclose": false,
   "autocomplete": true,
   "bibliofile": "biblio.bib",
   "cite_by": "apalike",
   "current_citInitial": 1,
   "eqLabelWithNumbers": true,
   "eqNumInitial": 1,
   "hotkeys": {
    "equation": "Ctrl-E",
    "itemize": "Ctrl-I"
   },
   "labels_anchors": false,
   "latex_user_defs": false,
   "report_style_numbering": false,
   "user_envs_cfg": false
  },
  "toc": {
   "base_numbering": 1,
   "nav_menu": {},
   "number_sections": true,
   "sideBar": true,
   "skip_h1_title": false,
   "title_cell": "Table of Contents",
   "title_sidebar": "Contents",
   "toc_cell": false,
   "toc_position": {},
   "toc_section_display": true,
   "toc_window_display": false
  }
 },
 "nbformat": 4,
 "nbformat_minor": 2
}
