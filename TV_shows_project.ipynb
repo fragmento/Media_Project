{
 "cells": [
  {
   "cell_type": "markdown",
   "metadata": {},
   "source": [
    "## Get data from single website \n"
   ]
  },
  {
   "cell_type": "code",
   "execution_count": 4,
   "metadata": {},
   "outputs": [],
   "source": [
    "import requests\n",
    "import json\n",
    "from bs4 import BeautifulSoup as bs\n"
   ]
  },
  {
   "cell_type": "code",
   "execution_count": 137,
   "metadata": {},
   "outputs": [],
   "source": [
    "headers = {'user-agent': 'Mozilla/5.0 (Macintosh; Intel Mac OS X 10_11_6) AppleWebKit/537.36 (KHTML, like Gecko) Chrome/53.0.2785.143 Safari/537.36'}\n",
    "\n",
    "movie_id = \"tt3032476\"\n",
    "url = \"https://www.imdb.com/title/tt7049682/ratings?ref_=tt_ov_rt\"\n",
    "new_url = \"https://www.imdb.com/title/\" + movie_id+ \"/ratings?ref_=tt_ov_rt\"\n",
    "page = requests.get(new_url, headers = headers)\n"
   ]
  },
  {
   "cell_type": "code",
   "execution_count": 138,
   "metadata": {},
   "outputs": [],
   "source": [
    "#Get contents of the page in the soup variable\n",
    "soup = bs(page.content, 'lxml')\n"
   ]
  },
  {
   "cell_type": "code",
   "execution_count": 139,
   "metadata": {},
   "outputs": [
    {
     "data": {
      "text/plain": [
       "'264,260'"
      ]
     },
     "execution_count": 139,
     "metadata": {},
     "output_type": "execute_result"
    }
   ],
   "source": [
    "table1 = soup.find_all('div', class_='smallcell')\n",
    "\n",
    "table1[0].get_text().split(\"\\n\")[2].strip()"
   ]
  },
  {
   "cell_type": "markdown",
   "metadata": {},
   "source": [
    "### total votes"
   ]
  },
  {
   "cell_type": "code",
   "execution_count": 140,
   "metadata": {},
   "outputs": [
    {
     "data": {
      "text/plain": [
       "'264,260'"
      ]
     },
     "execution_count": 140,
     "metadata": {},
     "output_type": "execute_result"
    }
   ],
   "source": [
    "table1 = soup.find_all('div', class_='smallcell')\n",
    "\n",
    "table1[0].get_text().split(\"\\n\")[2].strip()"
   ]
  },
  {
   "cell_type": "markdown",
   "metadata": {},
   "source": [
    "### All ages \n",
    "All, Female and Male "
   ]
  },
  {
   "cell_type": "code",
   "execution_count": 141,
   "metadata": {},
   "outputs": [],
   "source": [
    "table = soup.find_all('div', class_='bigcell')"
   ]
  },
  {
   "cell_type": "code",
   "execution_count": 142,
   "metadata": {},
   "outputs": [
    {
     "data": {
      "text/plain": [
       "[<div class=\"bigcell\">8.7</div>,\n",
       " <div class=\"bigcell\">8.7</div>,\n",
       " <div class=\"bigcell\">8.8</div>,\n",
       " <div class=\"bigcell\">8.6</div>,\n",
       " <div class=\"bigcell\">8.5</div>,\n",
       " <div class=\"bigcell\">8.7</div>,\n",
       " <div class=\"bigcell\">8.6</div>,\n",
       " <div class=\"bigcell\">8.8</div>,\n",
       " <div class=\"bigcell\">8.6</div>,\n",
       " <div class=\"bigcell\">8.5</div>,\n",
       " <div class=\"bigcell\">8.5</div>,\n",
       " <div class=\"bigcell\">8.8</div>,\n",
       " <div class=\"bigcell\">8.5</div>,\n",
       " <div class=\"bigcell\">8.5</div>,\n",
       " <div class=\"bigcell\">8.5</div>,\n",
       " <div class=\"bigcell\">8.0</div>,\n",
       " <div class=\"bigcell\">8.8</div>,\n",
       " <div class=\"bigcell\">8.6</div>]"
      ]
     },
     "execution_count": 142,
     "metadata": {},
     "output_type": "execute_result"
    }
   ],
   "source": [
    "table"
   ]
  },
  {
   "cell_type": "markdown",
   "metadata": {},
   "source": [
    "### Total ratings "
   ]
  },
  {
   "cell_type": "code",
   "execution_count": 143,
   "metadata": {},
   "outputs": [],
   "source": [
    "from collections import defaultdict\n",
    "d = defaultdict(dict)\n"
   ]
  },
  {
   "cell_type": "code",
   "execution_count": 144,
   "metadata": {},
   "outputs": [],
   "source": [
    "\n",
    "d['All']['All_Ages'] = table[0].get_text()\n",
    "d['All']['<18'] = table[1].get_text()\n",
    "d['All']['18-29'] = table[2].get_text()\n",
    "d['All']['30-44'] = table[3].get_text()\n",
    "d['All']['45+'] = table[4].get_text()\n",
    "\n",
    "d['Males']['All_Ages'] = table[5].get_text()\n",
    "d['Males']['<18'] = table[6].get_text()\n",
    "d['Males']['18-29'] = table[7].get_text()\n",
    "d['Males']['30-44'] = table[8].get_text()\n",
    "d['Males']['45+'] = table[9].get_text()\n",
    "\n",
    "\n",
    "d['Females']['All_Ages'] = table[10].get_text()\n",
    "d['Females']['<18'] = table[11].get_text()\n",
    "d['Females']['18-29'] = table[12].get_text()\n",
    "d['Females']['30-44'] = table[13].get_text()\n",
    "d['Females']['45+'] = table[14].get_text()\n",
    "\n",
    "d[\"US_Users\"] = table[16].get_text()\n",
    "d[\"Non_US_Users\"] = table[17].get_text()\n"
   ]
  },
  {
   "cell_type": "code",
   "execution_count": 145,
   "metadata": {},
   "outputs": [
    {
     "data": {
      "text/plain": [
       "defaultdict(dict,\n",
       "            {'All': {'All_Ages': '8.7',\n",
       "              '<18': '8.7',\n",
       "              '18-29': '8.8',\n",
       "              '30-44': '8.6',\n",
       "              '45+': '8.5'},\n",
       "             'Males': {'All_Ages': '8.7',\n",
       "              '<18': '8.6',\n",
       "              '18-29': '8.8',\n",
       "              '30-44': '8.6',\n",
       "              '45+': '8.5'},\n",
       "             'Females': {'All_Ages': '8.5',\n",
       "              '<18': '8.8',\n",
       "              '18-29': '8.5',\n",
       "              '30-44': '8.5',\n",
       "              '45+': '8.5'},\n",
       "             'US_Users': '8.8',\n",
       "             'Non_US_Users': '8.6'})"
      ]
     },
     "execution_count": 145,
     "metadata": {},
     "output_type": "execute_result"
    }
   ],
   "source": [
    "d"
   ]
  },
  {
   "cell_type": "markdown",
   "metadata": {},
   "source": [
    "### Total ratings "
   ]
  },
  {
   "cell_type": "code",
   "execution_count": null,
   "metadata": {},
   "outputs": [],
   "source": []
  },
  {
   "cell_type": "markdown",
   "metadata": {},
   "source": [
    "### Total ratings "
   ]
  },
  {
   "cell_type": "code",
   "execution_count": null,
   "metadata": {},
   "outputs": [],
   "source": []
  },
  {
   "cell_type": "markdown",
   "metadata": {},
   "source": [
    "## Get data from single website "
   ]
  },
  {
   "cell_type": "code",
   "execution_count": null,
   "metadata": {},
   "outputs": [],
   "source": [
    "for url in urls:\n",
    "    page = requests.get(url, headers = headers)\n",
    "    # include code to do status check\n",
    "    if page.status_code != 200:\n",
    "        print(page.status_code)\n",
    "    \n",
    "    #imagine we have gotten the contents of the page in the soup variable\n",
    "    soup = BeautifulSoup(page.content, 'html.parser')\n",
    "    items = soup.select(' .specific_class')\n",
    "    \n",
    "    #check to make sure we have items of that class\n",
    "    if items:\n",
    "        #continue processing the data\n",
    "    else:\n",
    "        print(\"Data is coming back blank\")"
   ]
  }
 ],
 "metadata": {
  "kernelspec": {
   "display_name": "Python 3",
   "language": "python",
   "name": "python3"
  },
  "language_info": {
   "codemirror_mode": {
    "name": "ipython",
    "version": 3
   },
   "file_extension": ".py",
   "mimetype": "text/x-python",
   "name": "python",
   "nbconvert_exporter": "python",
   "pygments_lexer": "ipython3",
   "version": "3.7.4"
  },
  "latex_envs": {
   "LaTeX_envs_menu_present": true,
   "autoclose": false,
   "autocomplete": true,
   "bibliofile": "biblio.bib",
   "cite_by": "apalike",
   "current_citInitial": 1,
   "eqLabelWithNumbers": true,
   "eqNumInitial": 1,
   "hotkeys": {
    "equation": "Ctrl-E",
    "itemize": "Ctrl-I"
   },
   "labels_anchors": false,
   "latex_user_defs": false,
   "report_style_numbering": false,
   "user_envs_cfg": false
  },
  "toc": {
   "base_numbering": 1,
   "nav_menu": {},
   "number_sections": true,
   "sideBar": true,
   "skip_h1_title": false,
   "title_cell": "Table of Contents",
   "title_sidebar": "Contents",
   "toc_cell": false,
   "toc_position": {},
   "toc_section_display": true,
   "toc_window_display": false
  }
 },
 "nbformat": 4,
 "nbformat_minor": 2
}
