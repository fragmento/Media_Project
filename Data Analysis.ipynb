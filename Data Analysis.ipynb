{
 "cells": [
  {
   "cell_type": "code",
   "execution_count": 3,
   "metadata": {},
   "outputs": [],
   "source": [
    "import mysql.connector\n",
    "from mysql.connector import errorcode\n",
    "import matplotlib.pyplot as plt\n",
    "import pandas as pd"
   ]
  },
  {
   "cell_type": "code",
   "execution_count": 2,
   "metadata": {},
   "outputs": [],
   "source": [
    "cnx = mysql.connector .connect(\n",
    "    host = 'serverandres.c43rrwosnqfo.us-east-2.rds.amazonaws.com',\n",
    "    user = 'owen_peng',\n",
    "    password = 'Peng1234!'\n",
    ")"
   ]
  },
  {
   "cell_type": "code",
   "execution_count": 4,
   "metadata": {},
   "outputs": [],
   "source": [
    "cursor = cnx.cursor()"
   ]
  },
  {
   "cell_type": "code",
   "execution_count": 5,
   "metadata": {},
   "outputs": [],
   "source": [
    "cursor.execute('''USE TVSHOWS''')"
   ]
  },
  {
   "cell_type": "code",
   "execution_count": 10,
   "metadata": {},
   "outputs": [],
   "source": [
    "cursor.execute('''DESCRIBE TVSHOWS.RATINGS''')\n",
    "columns_raw = cursor.fetchall()"
   ]
  },
  {
   "cell_type": "code",
   "execution_count": 18,
   "metadata": {},
   "outputs": [],
   "source": [
    "columns = []\n",
    "for i in range(0,len(columns_raw)):\n",
    "    columns.append(columns_raw[i][0])\n",
    "    "
   ]
  },
  {
   "cell_type": "code",
   "execution_count": 25,
   "metadata": {},
   "outputs": [
    {
     "data": {
      "text/plain": [
       "['all_all_ages',\n",
       " 'all_less_than_18',\n",
       " 'all_18_29',\n",
       " 'all_30_44',\n",
       " 'all_older_than_45',\n",
       " 'male_All_Ages',\n",
       " 'male_less_than_18',\n",
       " 'male_18_29',\n",
       " 'male_30_44',\n",
       " 'male_older_than_45',\n",
       " 'female_All_Ages',\n",
       " 'female_less_than_18',\n",
       " 'female_18_29',\n",
       " 'female_30_44',\n",
       " 'female_older_than_45']"
      ]
     },
     "execution_count": 25,
     "metadata": {},
     "output_type": "execute_result"
    }
   ],
   "source": [
    "cursor.execute('''SELECT AVG(all_all_ages), genre FROM TVSHOWS.RATINGS JOIN TVSHOWS.Netflix USING(imdbID) GROUP BY genre''')\n",
    "all_ages = cursor.fetchall()"
   ]
  },
  {
   "cell_type": "code",
   "execution_count": 24,
   "metadata": {},
   "outputs": [],
   "source": [
    "SELECT AVG(all_all_ages), genre FROM TVSHOWS.RATINGS JOIN TVSHOWS.Netflix USING(imdbID) GROUP BY genre"
   ]
  },
  {
   "cell_type": "code",
   "execution_count": 51,
   "metadata": {},
   "outputs": [],
   "source": [
    "ratings = []\n",
    "for i in range(0,len(columns)):\n",
    "    cursor.execute(f'''SELECT AVG({columns[i]}), genre FROM TVSHOWS.RATINGS JOIN TVSHOWS.Netflix USING(imdbID) GROUP BY genre ORDER BY AVG({columns[i]})''')\n",
    "    ratings.append(cursor.fetchall())\n",
    "    "
   ]
  },
  {
   "cell_type": "code",
   "execution_count": 68,
   "metadata": {},
   "outputs": [
    {
     "data": {
      "text/plain": [
       "[(6.8944444921281605, 'Standup'),\n",
       " (7.204545411196622, 'Horror'),\n",
       " (7.3666666348775225, 'Reality'),\n",
       " (7.463636333292181, 'Fantasy'),\n",
       " (7.53333338631524, 'Mystery'),\n",
       " (7.566101745023566, 'Korean'),\n",
       " (7.596078442592247, 'Teen'),\n",
       " (7.622222211625841, 'Cult_Classic'),\n",
       " (7.668000001907348, 'Anime'),\n",
       " (7.697727279229597, 'Science'),\n",
       " (7.724999964237213, 'Kids'),\n",
       " (7.730555600590176, 'Spanish'),\n",
       " (7.7392856393541605, 'British'),\n",
       " (7.782926792051734, 'Action'),\n",
       " (7.904081665739721, 'Comedy'),\n",
       " (7.972973011635445, 'Thriller'),\n",
       " (7.995454549789429, 'Crime'),\n",
       " (8.045614075242428, 'Romance'),\n",
       " (8.247222224871317, 'Drama'),\n",
       " (8.277600006103516, 'International'),\n",
       " (8.404761882055373, 'Documentary')]"
      ]
     },
     "execution_count": 68,
     "metadata": {},
     "output_type": "execute_result"
    }
   ],
   "source": [
    "ratings[0]"
   ]
  },
  {
   "cell_type": "markdown",
   "metadata": {},
   "source": [
    "### The Highest rated Genre of all demographics on Netflix"
   ]
  },
  {
   "cell_type": "code",
   "execution_count": 65,
   "metadata": {},
   "outputs": [
    {
     "name": "stdout",
     "output_type": "stream",
     "text": [
      "all_all_ages\n",
      "(8.404761882055373, 'Documentary')\n",
      "all_less_than_18\n",
      "(8.766666730244955, 'Documentary')\n",
      "all_18_29\n",
      "(8.452380906967889, 'Documentary')\n",
      "all_30_44\n",
      "(8.319047609965006, 'Documentary')\n",
      "all_older_than_45\n",
      "(8.285714308420816, 'Documentary')\n",
      "male_All_Ages\n",
      "(8.31904765537807, 'Documentary')\n",
      "male_less_than_18\n",
      "(8.845454562794078, 'Documentary')\n",
      "male_18_29\n",
      "(8.409523736862909, 'Documentary')\n",
      "male_30_44\n",
      "(8.257142838977632, 'Documentary')\n",
      "male_older_than_45\n",
      "(8.219047682625908, 'Documentary')\n",
      "female_All_Ages\n",
      "(8.633333342415947, 'Documentary')\n",
      "female_less_than_18\n",
      "(8.751612832469325, 'Romance')\n",
      "female_18_29\n",
      "(8.539999961853027, 'Documentary')\n",
      "female_30_44\n",
      "(8.609523818606423, 'Documentary')\n",
      "female_older_than_45\n",
      "(8.349999928474427, 'Documentary')\n"
     ]
    }
   ],
   "source": [
    "for i in range(0,len(columns)):\n",
    "    print(columns[i])\n",
    "    print(ratings[i][-1])"
   ]
  },
  {
   "cell_type": "markdown",
   "metadata": {},
   "source": [
    "### Highest Rated Genre among demographics on Hulu"
   ]
  },
  {
   "cell_type": "code",
   "execution_count": 60,
   "metadata": {},
   "outputs": [],
   "source": [
    "ratingsH = []\n",
    "for i in range(0,len(columns)):\n",
    "    cursor.execute(f'''SELECT AVG({columns[i]}), genre FROM TVSHOWS.RATINGS JOIN TVSHOWS.Hulu USING(imdbID) GROUP BY genre ORDER BY AVG({columns[i]})''')\n",
    "    ratingsH.append(cursor.fetchall())"
   ]
  },
  {
   "cell_type": "code",
   "execution_count": 62,
   "metadata": {},
   "outputs": [
    {
     "name": "stdout",
     "output_type": "stream",
     "text": [
      "all_all_ages\n",
      "(7.851079151784774, 'Action')\n",
      "all_less_than_18\n",
      "(7.774218775331974, 'Action')\n",
      "all_18_29\n",
      "(7.941726619391132, 'Action')\n",
      "all_30_44\n",
      "(7.725899300129294, 'Action')\n",
      "all_older_than_45\n",
      "(7.371942441240489, 'Action')\n",
      "male_All_Ages\n",
      "(7.771942466283016, 'Action')\n",
      "male_less_than_18\n",
      "(7.747967481613159, 'Action')\n",
      "male_18_29\n",
      "(7.890647483386582, 'Action')\n",
      "male_30_44\n",
      "(7.672661867073114, 'Action')\n",
      "male_older_than_45\n",
      "(7.341726625566002, 'Action')\n",
      "female_All_Ages\n",
      "(7.883453231921299, 'Action')\n",
      "female_less_than_18\n",
      "(7.7482758596025665, 'Action')\n",
      "female_18_29\n",
      "(7.968345359074983, 'Action')\n",
      "female_30_44\n",
      "(7.800719427547866, 'Action')\n",
      "female_older_than_45\n",
      "(7.574117677352008, 'Mystery')\n"
     ]
    }
   ],
   "source": [
    "for i in range(0,len(columns)):\n",
    "    print(columns[i])\n",
    "    print(ratingsH[i][-1])"
   ]
  },
  {
   "cell_type": "markdown",
   "metadata": {},
   "source": [
    "### Second Highest Rated on Netflix and Hulu"
   ]
  },
  {
   "cell_type": "code",
   "execution_count": 66,
   "metadata": {
    "scrolled": true
   },
   "outputs": [
    {
     "name": "stdout",
     "output_type": "stream",
     "text": [
      "all_all_ages\n",
      "(8.277600006103516, 'International')\n",
      "all_less_than_18\n",
      "(8.696078450072045, 'Drama')\n",
      "all_18_29\n",
      "(8.320161288784396, 'International')\n",
      "all_30_44\n",
      "(8.00720000076294, 'International')\n",
      "all_older_than_45\n",
      "(7.80428570168359, 'Drama')\n",
      "male_All_Ages\n",
      "(8.034400020599366, 'International')\n",
      "male_less_than_18\n",
      "(8.700000127156576, 'Cult_Classic')\n",
      "male_18_29\n",
      "(8.229268287255511, 'International')\n",
      "male_30_44\n",
      "(7.891200031280517, 'International')\n",
      "male_older_than_45\n",
      "(7.711111121707493, 'Cult_Classic')\n",
      "female_All_Ages\n",
      "(8.284722235467699, 'Drama')\n",
      "female_less_than_18\n",
      "(8.674999952316284, 'Documentary')\n",
      "female_18_29\n",
      "(8.499999984618157, 'Kids')\n",
      "female_30_44\n",
      "(8.217741958556637, 'International')\n",
      "female_older_than_45\n",
      "(8.202941207324757, 'Action')\n"
     ]
    }
   ],
   "source": [
    "for i in range(0,len(columns)):\n",
    "    print(columns[i])\n",
    "    print(ratings[i][-2])"
   ]
  },
  {
   "cell_type": "code",
   "execution_count": 67,
   "metadata": {
    "scrolled": true
   },
   "outputs": [
    {
     "name": "stdout",
     "output_type": "stream",
     "text": [
      "all_all_ages\n",
      "(7.4302564535385525, 'Drama')\n",
      "all_less_than_18\n",
      "(7.441538451268123, 'Mystery')\n",
      "all_18_29\n",
      "(7.530769236882528, 'Drama')\n",
      "all_30_44\n",
      "(7.302564136798566, 'Drama')\n",
      "all_older_than_45\n",
      "(7.315294136720545, 'Mystery')\n",
      "male_All_Ages\n",
      "(7.261538473700705, 'Comedy')\n",
      "male_less_than_18\n",
      "(7.609677422431208, 'Mystery')\n",
      "male_18_29\n",
      "(7.406072869474588, 'Comedy')\n",
      "male_30_44\n",
      "(7.1801619394588085, 'Comedy')\n",
      "male_older_than_45\n",
      "(7.184705896938548, 'Mystery')\n",
      "female_All_Ages\n",
      "(7.6266666999230015, 'Drama')\n",
      "female_less_than_18\n",
      "(7.427878781520959, 'Drama')\n",
      "female_18_29\n",
      "(7.628350557740202, 'Drama')\n",
      "female_30_44\n",
      "(7.523195895952048, 'Drama')\n",
      "female_older_than_45\n",
      "(7.521538480122884, 'Drama')\n"
     ]
    }
   ],
   "source": [
    "for i in range(0,len(columns)):\n",
    "    print(columns[i])\n",
    "    print(ratingsH[i][-2])"
   ]
  },
  {
   "cell_type": "markdown",
   "metadata": {},
   "source": [
    "### Looking at combined data"
   ]
  },
  {
   "cell_type": "code",
   "execution_count": 78,
   "metadata": {},
   "outputs": [],
   "source": [
    "ratings = []\n",
    "for i in range(0,len(columns)):\n",
    "    cursor.execute(f'''SELECT AVG({columns[i]}), TVSHOWS.Netflix.genre FROM TVSHOWS.RATINGS INNER JOIN TVSHOWS.Hulu USING(imdbID) INNER JOIN TVSHOWS.Netflix USING(imdbID) GROUP BY genre ORDER BY AVG({columns[i]})''')\n",
    "    ratings.append(cursor.fetchall())"
   ]
  },
  {
   "cell_type": "code",
   "execution_count": 82,
   "metadata": {},
   "outputs": [
    {
     "name": "stdout",
     "output_type": "stream",
     "text": [
      "all_all_ages\n",
      "(9.0, 'Fantasy')\n",
      "all_less_than_18\n",
      "(9.199999809265137, 'Mystery')\n",
      "all_18_29\n",
      "(9.0, 'Fantasy')\n",
      "all_30_44\n",
      "(9.0, 'Fantasy')\n",
      "all_older_than_45\n",
      "(9.0, 'Fantasy')\n",
      "male_All_Ages\n",
      "(9.0, 'Fantasy')\n",
      "male_less_than_18\n",
      "(9.733333269755045, 'Horror')\n",
      "male_18_29\n",
      "(9.0, 'Fantasy')\n",
      "male_30_44\n",
      "(9.0, 'Fantasy')\n",
      "male_older_than_45\n",
      "(9.0, 'Fantasy')\n",
      "female_All_Ages\n",
      "(9.0, 'Fantasy')\n",
      "female_less_than_18\n",
      "(9.5, 'Mystery')\n",
      "female_18_29\n",
      "(9.0, 'Fantasy')\n",
      "female_30_44\n",
      "(9.0, 'Fantasy')\n",
      "female_older_than_45\n",
      "(9.0, 'Fantasy')\n"
     ]
    }
   ],
   "source": [
    "for i in range(0,len(columns)):\n",
    "    print(columns[i])\n",
    "    print(ratings[i][-1])"
   ]
  },
  {
   "cell_type": "code",
   "execution_count": 84,
   "metadata": {},
   "outputs": [
    {
     "name": "stdout",
     "output_type": "stream",
     "text": [
      "all_all_ages\n",
      "(8.860000038146973, 'Crime')\n",
      "all_less_than_18\n",
      "(9.199999809265137, 'Thriller')\n",
      "all_18_29\n",
      "(8.939999771118163, 'Crime')\n",
      "all_30_44\n",
      "(8.850000143051147, 'Cult_Classic')\n",
      "all_older_than_45\n",
      "(8.625, 'Cult_Classic')\n",
      "male_All_Ages\n",
      "(8.860000038146973, 'Crime')\n",
      "male_less_than_18\n",
      "(9.125000238418579, 'Thriller')\n",
      "male_18_29\n",
      "(8.939999771118163, 'Crime')\n",
      "male_30_44\n",
      "(8.850000143051147, 'Cult_Classic')\n",
      "male_older_than_45\n",
      "(8.625, 'Cult_Classic')\n",
      "female_All_Ages\n",
      "(8.850000143051147, 'Cult_Classic')\n",
      "female_less_than_18\n",
      "(9.474999904632568, 'Cult_Classic')\n",
      "female_18_29\n",
      "(8.924999713897705, 'Cult_Classic')\n",
      "female_30_44\n",
      "(8.850000143051147, 'Cult_Classic')\n",
      "female_older_than_45\n",
      "(8.549999713897705, 'Cult_Classic')\n"
     ]
    }
   ],
   "source": [
    "for i in range(0,len(columns)):\n",
    "    print(columns[i])\n",
    "    print(ratings[i][-2])"
   ]
  },
  {
   "cell_type": "code",
   "execution_count": null,
   "metadata": {},
   "outputs": [],
   "source": []
  }
 ],
 "metadata": {
  "kernelspec": {
   "display_name": "Python 3",
   "language": "python",
   "name": "python3"
  },
  "language_info": {
   "codemirror_mode": {
    "name": "ipython",
    "version": 3
   },
   "file_extension": ".py",
   "mimetype": "text/x-python",
   "name": "python",
   "nbconvert_exporter": "python",
   "pygments_lexer": "ipython3",
   "version": "3.7.4"
  }
 },
 "nbformat": 4,
 "nbformat_minor": 2
}
