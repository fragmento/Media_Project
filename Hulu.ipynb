{
 "cells": [
  {
   "cell_type": "code",
   "execution_count": 1,
   "metadata": {},
   "outputs": [],
   "source": [
    "from bs4 import BeautifulSoup\n",
    "import requests\n",
    "import mysql.connector\n",
    "from mysql.connector import errorcode"
   ]
  },
  {
   "cell_type": "code",
   "execution_count": 88,
   "metadata": {},
   "outputs": [],
   "source": [
    "cnx = mysql.connector .connect(\n",
    "    host = 'serverandres.c43rrwosnqfo.us-east-2.rds.amazonaws.com',\n",
    "    user = 'owen_peng',\n",
    "    password = 'Peng1234!'\n",
    ")"
   ]
  },
  {
   "cell_type": "code",
   "execution_count": 36,
   "metadata": {},
   "outputs": [
    {
     "data": {
      "text/plain": [
       "bs4.BeautifulSoup"
      ]
     },
     "execution_count": 36,
     "metadata": {},
     "output_type": "execute_result"
    }
   ],
   "source": [
    "page = requests.get(\"https://reelgood.com/tv/source/hulu?filter-sort=2&offset=650\")\n",
    "soup = BeautifulSoup(page.content, 'html.parser')\n",
    "type(soup)"
   ]
  },
  {
   "cell_type": "code",
   "execution_count": 60,
   "metadata": {},
   "outputs": [],
   "source": [
    "body = soup.tbody"
   ]
  },
  {
   "cell_type": "code",
   "execution_count": 67,
   "metadata": {},
   "outputs": [],
   "source": [
    "rows = body.find_all(class_=\"css-78jh1y\")"
   ]
  },
  {
   "cell_type": "code",
   "execution_count": 71,
   "metadata": {},
   "outputs": [
    {
     "data": {
      "text/plain": [
       "'The Carmichael Show'"
      ]
     },
     "execution_count": 71,
     "metadata": {},
     "output_type": "execute_result"
    }
   ],
   "source": [
    "rows[0].text"
   ]
  },
  {
   "cell_type": "code",
   "execution_count": 74,
   "metadata": {},
   "outputs": [],
   "source": [
    "def get_names(url):   \n",
    "    page = requests.get(url)\n",
    "    soup = BeautifulSoup(page.content, 'html.parser')\n",
    "    pictures = soup.tbody.find_all(class_=\"css-78jh1y\")\n",
    "    show_names = []\n",
    "    for i in pictures:\n",
    "        show_name = i.text\n",
    "        show_names.append(show_name)\n",
    "    return show_names"
   ]
  },
  {
   "cell_type": "code",
   "execution_count": 77,
   "metadata": {},
   "outputs": [],
   "source": [
    "action = get_names('https://reelgood.com/tv/source/hulu?filter-genre=5&filter-sort=2')"
   ]
  },
  {
   "cell_type": "code",
   "execution_count": 76,
   "metadata": {},
   "outputs": [],
   "source": [
    "api_key = '9cd2dde4'\n",
    "url = 'http://www.omdbapi.com/?apikey=9cd2dde4&'"
   ]
  },
  {
   "cell_type": "code",
   "execution_count": 78,
   "metadata": {},
   "outputs": [
    {
     "data": {
      "text/plain": [
       "'Rick and Morty'"
      ]
     },
     "execution_count": 78,
     "metadata": {},
     "output_type": "execute_result"
    }
   ],
   "source": [
    "action[0]"
   ]
  },
  {
   "cell_type": "code",
   "execution_count": 79,
   "metadata": {},
   "outputs": [],
   "source": [
    "def api_call(l):\n",
    "    raw_show_data = []\n",
    "    for i in range(0,len(l)):\n",
    "        params = {'s':l[i]}\n",
    "        response = requests.get(url, params=params)\n",
    "        data = response.json()\n",
    "        raw_show_data.append(data)\n",
    "    return raw_show_data"
   ]
  },
  {
   "cell_type": "code",
   "execution_count": 83,
   "metadata": {},
   "outputs": [],
   "source": [
    "def parse_raw_data(l,genre):\n",
    "    parsed_data = []\n",
    "    for i in l:\n",
    "        if i['Response'] == 'False':\n",
    "            continue\n",
    "        else:\n",
    "            try:\n",
    "                movie_tuple = (i['Search'][0]['Title'],i['Search'][0]['Year'].split(\"–\")[0],i['Search'][0]['imdbID'],genre)\n",
    "            except:\n",
    "                movie_tuple = (i['Search'][0]['Title'],i['Search'][0]['Year'],i['Search'][0]['imdbID'],genre)\n",
    "            parsed_data.append(movie_tuple)\n",
    "    return parsed_data"
   ]
  },
  {
   "cell_type": "code",
   "execution_count": 92,
   "metadata": {},
   "outputs": [],
   "source": [
    "def db_entry(l,genre):\n",
    "    raw_data = api_call(l)\n",
    "    parsed_data = parse_raw_data(raw_data,genre)\n",
    "    stmt = \"\"\"INSERT INTO Hulu (Name, Start_Year, imdbID, Genre) VALUES (%s, %s, %s, %s)\"\"\"\n",
    "    cursor.executemany(stmt, parsed_data)\n",
    "    cnx.commit()"
   ]
  },
  {
   "cell_type": "code",
   "execution_count": 97,
   "metadata": {},
   "outputs": [],
   "source": [
    "action = get_names('https://reelgood.com/tv/source/hulu?filter-genre=5&offset=100')"
   ]
  },
  {
   "cell_type": "code",
   "execution_count": 98,
   "metadata": {},
   "outputs": [],
   "source": [
    "db_entry(action, 'Action')"
   ]
  },
  {
   "cell_type": "code",
   "execution_count": 100,
   "metadata": {},
   "outputs": [],
   "source": [
    "animation = get_names('https://reelgood.com/tv/source/hulu?filter-genre=6')"
   ]
  },
  {
   "cell_type": "code",
   "execution_count": null,
   "metadata": {},
   "outputs": [],
   "source": [
    "db_entry(animation, 'Animation')"
   ]
  },
  {
   "cell_type": "code",
   "execution_count": 89,
   "metadata": {},
   "outputs": [],
   "source": [
    "cursor = cnx.cursor()"
   ]
  },
  {
   "cell_type": "code",
   "execution_count": 90,
   "metadata": {},
   "outputs": [],
   "source": [
    "cursor.execute('''USE TVSHOWS''')"
   ]
  },
  {
   "cell_type": "code",
   "execution_count": 91,
   "metadata": {},
   "outputs": [],
   "source": [
    "create=  (  \"CREATE TABLE Hulu (\"\n",
    "        \"  id int NOT NULL AUTO_INCREMENT,\"\n",
    "        \"  Name varchar(100),\"\n",
    "        \"  Start_Year int,\"\n",
    "        \"  imdbID varchar(50) NOT NULL,\"\n",
    "        \"  genre varchar(50),\"  \n",
    "        \"  PRIMARY KEY (iD)\"\n",
    "        \") ENGINE=InnoDB\")\n",
    "cursor.execute(create)"
   ]
  },
  {
   "cell_type": "code",
   "execution_count": null,
   "metadata": {},
   "outputs": [],
   "source": []
  }
 ],
 "metadata": {
  "kernelspec": {
   "display_name": "Python 3",
   "language": "python",
   "name": "python3"
  },
  "language_info": {
   "codemirror_mode": {
    "name": "ipython",
    "version": 3
   },
   "file_extension": ".py",
   "mimetype": "text/x-python",
   "name": "python",
   "nbconvert_exporter": "python",
   "pygments_lexer": "ipython3",
   "version": "3.7.4"
  }
 },
 "nbformat": 4,
 "nbformat_minor": 2
}
