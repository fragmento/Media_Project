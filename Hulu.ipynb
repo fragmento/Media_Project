{
 "cells": [
  {
   "cell_type": "code",
   "execution_count": 7,
   "metadata": {},
   "outputs": [],
   "source": [
    "from bs4 import BeautifulSoup\n",
    "import requests\n",
    "import mysql.connector\n",
    "from mysql.connector import errorcode"
   ]
  },
  {
   "cell_type": "code",
   "execution_count": 106,
   "metadata": {},
   "outputs": [],
   "source": [
    "cnx = mysql.connector .connect(\n",
    "    host = 'serverandres.c43rrwosnqfo.us-east-2.rds.amazonaws.com',\n",
    "    user = 'owen_peng',\n",
    "    password = 'Peng1234!'\n",
    ")"
   ]
  },
  {
   "cell_type": "code",
   "execution_count": 132,
   "metadata": {},
   "outputs": [],
   "source": [
    "import matplotlib.pyplot as plt\n",
    "import pandas as pd"
   ]
  },
  {
   "cell_type": "code",
   "execution_count": 60,
   "metadata": {},
   "outputs": [],
   "source": [
    "body = soup.tbody"
   ]
  },
  {
   "cell_type": "code",
   "execution_count": 67,
   "metadata": {},
   "outputs": [],
   "source": [
    "rows = body.find_all(class_=\"css-78jh1y\")"
   ]
  },
  {
   "cell_type": "code",
   "execution_count": 71,
   "metadata": {},
   "outputs": [
    {
     "data": {
      "text/plain": [
       "'The Carmichael Show'"
      ]
     },
     "execution_count": 71,
     "metadata": {},
     "output_type": "execute_result"
    }
   ],
   "source": [
    "rows[0].text"
   ]
  },
  {
   "cell_type": "code",
   "execution_count": 77,
   "metadata": {},
   "outputs": [],
   "source": [
    "page = requests.get('https://reelgood.com/tv/source/hulu?filter-genre=13&filter-sort=1&offset=150')\n",
    "soup = BeautifulSoup(page.content, 'html.parser')\n"
   ]
  },
  {
   "cell_type": "code",
   "execution_count": 73,
   "metadata": {},
   "outputs": [],
   "source": [
    "def get_names(url):   \n",
    "    page = requests.get(url)\n",
    "    soup = BeautifulSoup(page.content, 'html.parser')\n",
    "    pictures = soup.tbody.find_all(class_=\"css-78jh1y\")\n",
    "    show_names = []\n",
    "    for i in pictures:\n",
    "        show_name = i.text\n",
    "        show_names.append(show_name)\n",
    "    return show_names"
   ]
  },
  {
   "cell_type": "code",
   "execution_count": 77,
   "metadata": {},
   "outputs": [],
   "source": [
    "action = get_names('https://reelgood.com/tv/source/hulu?filter-genre=5&filter-sort=2')"
   ]
  },
  {
   "cell_type": "code",
   "execution_count": 13,
   "metadata": {},
   "outputs": [],
   "source": [
    "api_key = '9cd2dde4'\n",
    "url = 'http://www.omdbapi.com/?apikey=9cd2dde4&'"
   ]
  },
  {
   "cell_type": "code",
   "execution_count": 78,
   "metadata": {},
   "outputs": [
    {
     "data": {
      "text/plain": [
       "'Rick and Morty'"
      ]
     },
     "execution_count": 78,
     "metadata": {},
     "output_type": "execute_result"
    }
   ],
   "source": [
    "action[0]"
   ]
  },
  {
   "cell_type": "code",
   "execution_count": 3,
   "metadata": {},
   "outputs": [],
   "source": [
    "def api_call(l):\n",
    "    raw_show_data = []\n",
    "    for i in range(0,len(l)):\n",
    "        params = {'s':l[i]}\n",
    "        response = requests.get(url, params=params)\n",
    "        data = response.json()\n",
    "        raw_show_data.append(data)\n",
    "    return raw_show_data"
   ]
  },
  {
   "cell_type": "code",
   "execution_count": 4,
   "metadata": {},
   "outputs": [],
   "source": [
    "def parse_raw_data(l,genre):\n",
    "    parsed_data = []\n",
    "    for i in l:\n",
    "        if i['Response'] == 'False':\n",
    "            continue\n",
    "        else:\n",
    "            try:\n",
    "                movie_tuple = (i['Search'][0]['Title'],i['Search'][0]['Year'].split(\"–\")[0],i['Search'][0]['imdbID'],genre)\n",
    "            except:\n",
    "                movie_tuple = (i['Search'][0]['Title'],i['Search'][0]['Year'],i['Search'][0]['imdbID'],genre)\n",
    "            parsed_data.append(movie_tuple)\n",
    "    return parsed_data"
   ]
  },
  {
   "cell_type": "code",
   "execution_count": 5,
   "metadata": {},
   "outputs": [],
   "source": [
    "def db_entry(l,genre):\n",
    "    raw_data = api_call(l)\n",
    "    parsed_data = parse_raw_data(raw_data,genre)\n",
    "    stmt = \"\"\"INSERT INTO Hulu (Name, Start_Year, imdbID, Genre) VALUES (%s, %s, %s, %s)\"\"\"\n",
    "    cursor.executemany(stmt, parsed_data)\n",
    "    cnx.commit()"
   ]
  },
  {
   "cell_type": "code",
   "execution_count": 97,
   "metadata": {},
   "outputs": [],
   "source": [
    "action = get_names('https://reelgood.com/tv/source/hulu?filter-genre=5&offset=100')"
   ]
  },
  {
   "cell_type": "code",
   "execution_count": 98,
   "metadata": {},
   "outputs": [],
   "source": [
    "db_entry(action, 'Action')"
   ]
  },
  {
   "cell_type": "code",
   "execution_count": 100,
   "metadata": {},
   "outputs": [],
   "source": [
    "animation = get_names('https://reelgood.com/tv/source/hulu?filter-genre=6')"
   ]
  },
  {
   "cell_type": "code",
   "execution_count": null,
   "metadata": {},
   "outputs": [],
   "source": [
    "db_entry(animation, 'Animation')"
   ]
  },
  {
   "cell_type": "code",
   "execution_count": 107,
   "metadata": {},
   "outputs": [],
   "source": [
    "cursor = cnx.cursor()"
   ]
  },
  {
   "cell_type": "code",
   "execution_count": 108,
   "metadata": {},
   "outputs": [],
   "source": [
    "cursor.execute('''USE TVSHOWS''')"
   ]
  },
  {
   "cell_type": "code",
   "execution_count": 91,
   "metadata": {},
   "outputs": [],
   "source": [
    "create=  (  \"CREATE TABLE Hulu (\"\n",
    "        \"  id int NOT NULL AUTO_INCREMENT,\"\n",
    "        \"  Name varchar(100),\"\n",
    "        \"  Start_Year int,\"\n",
    "        \"  imdbID varchar(50) NOT NULL,\"\n",
    "        \"  genre varchar(50),\"  \n",
    "        \"  PRIMARY KEY (iD)\"\n",
    "        \") ENGINE=InnoDB\")\n",
    "cursor.execute(create)"
   ]
  },
  {
   "cell_type": "code",
   "execution_count": 21,
   "metadata": {},
   "outputs": [],
   "source": [
    "anime = get_names('https://reelgood.com/tv/source/hulu?filter-genre=39&filter-sort=1&offset=100')"
   ]
  },
  {
   "cell_type": "code",
   "execution_count": 22,
   "metadata": {},
   "outputs": [],
   "source": [
    "db_entry(anime, 'Anime')"
   ]
  },
  {
   "cell_type": "code",
   "execution_count": 26,
   "metadata": {},
   "outputs": [],
   "source": [
    "kids = get_names('https://reelgood.com/tv/source/hulu?filter-genre=8&filter-sort=1&offset=50')"
   ]
  },
  {
   "cell_type": "code",
   "execution_count": 27,
   "metadata": {},
   "outputs": [],
   "source": [
    "db_entry(kids, 'Kids')"
   ]
  },
  {
   "cell_type": "code",
   "execution_count": 37,
   "metadata": {},
   "outputs": [],
   "source": [
    "comedy = get_names('https://reelgood.com/tv/source/hulu?filter-genre=9&filter-sort=1&offset=200')"
   ]
  },
  {
   "cell_type": "code",
   "execution_count": 38,
   "metadata": {},
   "outputs": [],
   "source": [
    "db_entry(comedy, 'Comedy')"
   ]
  },
  {
   "cell_type": "code",
   "execution_count": 45,
   "metadata": {},
   "outputs": [],
   "source": [
    "crime = get_names('https://reelgood.com/tv/source/hulu?filter-genre=10&filter-sort=1&offset=150')"
   ]
  },
  {
   "cell_type": "code",
   "execution_count": 46,
   "metadata": {},
   "outputs": [],
   "source": [
    "db_entry(crime, 'Crime')"
   ]
  },
  {
   "cell_type": "code",
   "execution_count": 53,
   "metadata": {},
   "outputs": [],
   "source": [
    "documentary = get_names('https://reelgood.com/tv/source/hulu?filter-genre=11&filter-sort=1&offset=150')"
   ]
  },
  {
   "cell_type": "code",
   "execution_count": 54,
   "metadata": {},
   "outputs": [],
   "source": [
    "db_entry(documentary, 'Documentary')"
   ]
  },
  {
   "cell_type": "code",
   "execution_count": 61,
   "metadata": {},
   "outputs": [],
   "source": [
    "drama = get_names('https://reelgood.com/tv/source/hulu?filter-genre=3&filter-sort=1&offset=150')"
   ]
  },
  {
   "cell_type": "code",
   "execution_count": 62,
   "metadata": {},
   "outputs": [],
   "source": [
    "db_entry(drama, 'Drama')"
   ]
  },
  {
   "cell_type": "code",
   "execution_count": 78,
   "metadata": {},
   "outputs": [],
   "source": [
    "fantasy = get_names('https://reelgood.com/tv/source/hulu?filter-genre=13&filter-sort=1&offset=100')"
   ]
  },
  {
   "cell_type": "code",
   "execution_count": 71,
   "metadata": {},
   "outputs": [],
   "source": [
    "db_entry(fantasy, 'Fantasy')"
   ]
  },
  {
   "cell_type": "code",
   "execution_count": 79,
   "metadata": {},
   "outputs": [],
   "source": [
    "horror = get_names('https://reelgood.com/tv/source/hulu?filter-genre=19&filter-sort=1')"
   ]
  },
  {
   "cell_type": "code",
   "execution_count": 80,
   "metadata": {},
   "outputs": [],
   "source": [
    "db_entry(horror, 'Horror')"
   ]
  },
  {
   "cell_type": "code",
   "execution_count": 83,
   "metadata": {},
   "outputs": [],
   "source": [
    "mystery = get_names('https://reelgood.com/tv/source/hulu?filter-genre=23&filter-sort=1&offset=50')"
   ]
  },
  {
   "cell_type": "code",
   "execution_count": 84,
   "metadata": {},
   "outputs": [],
   "source": [
    "db_entry(mystery, 'Mystery')"
   ]
  },
  {
   "cell_type": "code",
   "execution_count": 91,
   "metadata": {},
   "outputs": [],
   "source": [
    "reality = get_names('https://reelgood.com/tv/source/hulu?filter-genre=25&filter-sort=1&offset=150')"
   ]
  },
  {
   "cell_type": "code",
   "execution_count": 93,
   "metadata": {},
   "outputs": [],
   "source": [
    "db_entry(reality, 'Reality')"
   ]
  },
  {
   "cell_type": "markdown",
   "metadata": {},
   "source": [
    "### Working with database data"
   ]
  },
  {
   "cell_type": "code",
   "execution_count": 137,
   "metadata": {},
   "outputs": [],
   "source": [
    "cursor.execute('''SELECT AVG(all_all_ages), genre FROM TVSHOWS.RATINGS JOIN TVSHOWS.Netflix USING(imdbID) GROUP BY genre''')\n",
    "all_ages = cursor.fetchall()"
   ]
  },
  {
   "cell_type": "code",
   "execution_count": 149,
   "metadata": {},
   "outputs": [
    {
     "ename": "InternalError",
     "evalue": "Unread result found",
     "output_type": "error",
     "traceback": [
      "\u001b[0;31m---------------------------------------------------------------------------\u001b[0m",
      "\u001b[0;31mInternalError\u001b[0m                             Traceback (most recent call last)",
      "\u001b[0;32m<ipython-input-149-4103e03f76ab>\u001b[0m in \u001b[0;36m<module>\u001b[0;34m\u001b[0m\n\u001b[0;32m----> 1\u001b[0;31m \u001b[0mcursor\u001b[0m\u001b[0;34m.\u001b[0m\u001b[0mexecute\u001b[0m\u001b[0;34m(\u001b[0m\u001b[0;34m'''DESCRIBE TVSHOWS.RATINGS'''\u001b[0m\u001b[0;34m)\u001b[0m\u001b[0;34m\u001b[0m\u001b[0;34m\u001b[0m\u001b[0m\n\u001b[0m\u001b[1;32m      2\u001b[0m \u001b[0mcolumns\u001b[0m \u001b[0;34m=\u001b[0m \u001b[0mcursor\u001b[0m\u001b[0;34m.\u001b[0m\u001b[0mfetchall\u001b[0m\u001b[0;34m(\u001b[0m\u001b[0;34m)\u001b[0m\u001b[0;34m\u001b[0m\u001b[0;34m\u001b[0m\u001b[0m\n",
      "\u001b[0;32m~/opt/anaconda3/lib/python3.7/site-packages/mysql/connector/cursor_cext.py\u001b[0m in \u001b[0;36mexecute\u001b[0;34m(self, operation, params, multi)\u001b[0m\n\u001b[1;32m    232\u001b[0m         \u001b[0;32mif\u001b[0m \u001b[0;32mnot\u001b[0m \u001b[0mself\u001b[0m\u001b[0;34m.\u001b[0m\u001b[0m_cnx\u001b[0m\u001b[0;34m:\u001b[0m\u001b[0;34m\u001b[0m\u001b[0;34m\u001b[0m\u001b[0m\n\u001b[1;32m    233\u001b[0m             \u001b[0;32mraise\u001b[0m \u001b[0merrors\u001b[0m\u001b[0;34m.\u001b[0m\u001b[0mProgrammingError\u001b[0m\u001b[0;34m(\u001b[0m\u001b[0;34m\"Cursor is not connected\"\u001b[0m\u001b[0;34m)\u001b[0m\u001b[0;34m\u001b[0m\u001b[0;34m\u001b[0m\u001b[0m\n\u001b[0;32m--> 234\u001b[0;31m         \u001b[0mself\u001b[0m\u001b[0;34m.\u001b[0m\u001b[0m_cnx\u001b[0m\u001b[0;34m.\u001b[0m\u001b[0mhandle_unread_result\u001b[0m\u001b[0;34m(\u001b[0m\u001b[0;34m)\u001b[0m\u001b[0;34m\u001b[0m\u001b[0;34m\u001b[0m\u001b[0m\n\u001b[0m\u001b[1;32m    235\u001b[0m \u001b[0;34m\u001b[0m\u001b[0m\n\u001b[1;32m    236\u001b[0m         \u001b[0mstmt\u001b[0m \u001b[0;34m=\u001b[0m \u001b[0;34m''\u001b[0m\u001b[0;34m\u001b[0m\u001b[0;34m\u001b[0m\u001b[0m\n",
      "\u001b[0;32m~/opt/anaconda3/lib/python3.7/site-packages/mysql/connector/connection_cext.py\u001b[0m in \u001b[0;36mhandle_unread_result\u001b[0;34m(self, prepared)\u001b[0m\n\u001b[1;32m    693\u001b[0m             \u001b[0mself\u001b[0m\u001b[0;34m.\u001b[0m\u001b[0mconsume_results\u001b[0m\u001b[0;34m(\u001b[0m\u001b[0;34m)\u001b[0m\u001b[0;34m\u001b[0m\u001b[0;34m\u001b[0m\u001b[0m\n\u001b[1;32m    694\u001b[0m         \u001b[0;32melif\u001b[0m \u001b[0munread_result\u001b[0m\u001b[0;34m:\u001b[0m\u001b[0;34m\u001b[0m\u001b[0;34m\u001b[0m\u001b[0m\n\u001b[0;32m--> 695\u001b[0;31m             \u001b[0;32mraise\u001b[0m \u001b[0merrors\u001b[0m\u001b[0;34m.\u001b[0m\u001b[0mInternalError\u001b[0m\u001b[0;34m(\u001b[0m\u001b[0;34m\"Unread result found\"\u001b[0m\u001b[0;34m)\u001b[0m\u001b[0;34m\u001b[0m\u001b[0;34m\u001b[0m\u001b[0m\n\u001b[0m",
      "\u001b[0;31mInternalError\u001b[0m: Unread result found"
     ]
    }
   ],
   "source": [
    "cursor.execute('''DESCRIBE TVSHOWS.RATINGS''')\n",
    "columns = cursor.fetchall()"
   ]
  },
  {
   "cell_type": "code",
   "execution_count": 138,
   "metadata": {},
   "outputs": [
    {
     "data": {
      "text/plain": [
       "[(7.799999952316284, 'Action'),\n",
       " (7.842857156481061, 'Anime'),\n",
       " (8.142857006617955, 'British'),\n",
       " (8.010526330847489, 'Comedy'),\n",
       " (7.8615384835463304, 'Crime'),\n",
       " (7.0, 'Cult_Classic'),\n",
       " (8.200000047683716, 'Documentary'),\n",
       " (8.252941243788776, 'Drama'),\n",
       " (7.063636346296831, 'Fantasy'),\n",
       " (7.349999904632568, 'Horror'),\n",
       " (8.483783825023755, 'International'),\n",
       " (7.749999940395355, 'Kids'),\n",
       " (7.346666653951009, 'Korean'),\n",
       " (7.388888941870795, 'Mystery'),\n",
       " (7.499999926640437, 'Reality'),\n",
       " (8.29090911691839, 'Romance'),\n",
       " (7.483333309491475, 'Science'),\n",
       " (7.6916667222976685, 'Spanish'),\n",
       " (7.0600001335144045, 'Standup'),\n",
       " (7.679999987284343, 'Teen'),\n",
       " (7.725000083446503, 'Thriller')]"
      ]
     },
     "execution_count": 138,
     "metadata": {},
     "output_type": "execute_result"
    }
   ],
   "source": [
    "all_ages"
   ]
  },
  {
   "cell_type": "code",
   "execution_count": 139,
   "metadata": {},
   "outputs": [],
   "source": [
    "def bar_y_values(l):\n",
    "    y = []\n",
    "    for i in l:\n",
    "        y_value = i[0]\n",
    "        y.append(y_value)\n",
    "    return y\n",
    "        \n",
    "        "
   ]
  },
  {
   "cell_type": "code",
   "execution_count": 140,
   "metadata": {},
   "outputs": [],
   "source": [
    "def bar_x_values(l):\n",
    "    x = []\n",
    "    for i in l:\n",
    "        x_value = i[1]\n",
    "        x.append(x_value)\n",
    "    return x"
   ]
  },
  {
   "cell_type": "code",
   "execution_count": 141,
   "metadata": {},
   "outputs": [
    {
     "data": {
      "text/plain": [
       "[7.799999952316284,\n",
       " 7.842857156481061,\n",
       " 8.142857006617955,\n",
       " 8.010526330847489,\n",
       " 7.8615384835463304,\n",
       " 7.0,\n",
       " 8.200000047683716,\n",
       " 8.252941243788776,\n",
       " 7.063636346296831,\n",
       " 7.349999904632568,\n",
       " 8.483783825023755,\n",
       " 7.749999940395355,\n",
       " 7.346666653951009,\n",
       " 7.388888941870795,\n",
       " 7.499999926640437,\n",
       " 8.29090911691839,\n",
       " 7.483333309491475,\n",
       " 7.6916667222976685,\n",
       " 7.0600001335144045,\n",
       " 7.679999987284343,\n",
       " 7.725000083446503]"
      ]
     },
     "execution_count": 141,
     "metadata": {},
     "output_type": "execute_result"
    }
   ],
   "source": [
    "bar_y_values(all_ages)"
   ]
  },
  {
   "cell_type": "code",
   "execution_count": 128,
   "metadata": {},
   "outputs": [
    {
     "data": {
      "text/plain": [
       "['Action',\n",
       " 'Anime',\n",
       " 'British',\n",
       " 'Comedy',\n",
       " 'Crime',\n",
       " 'Cult_Classic',\n",
       " 'Documentary',\n",
       " 'Drama',\n",
       " 'Fantasy',\n",
       " 'Horror',\n",
       " 'International',\n",
       " 'Kids',\n",
       " 'Korean',\n",
       " 'Mystery',\n",
       " 'Reality',\n",
       " 'Romance',\n",
       " 'Science',\n",
       " 'Spanish',\n",
       " 'Standup',\n",
       " 'Teen',\n",
       " 'Thriller']"
      ]
     },
     "execution_count": 128,
     "metadata": {},
     "output_type": "execute_result"
    }
   ],
   "source": [
    "bar_x_values(all_ages)"
   ]
  },
  {
   "cell_type": "code",
   "execution_count": 147,
   "metadata": {},
   "outputs": [
    {
     "data": {
      "text/plain": [
       "([0, 1, 2, 3, 4, 5, 6, 7, 8, 9, 10, 11, 12, 13, 14, 15, 16, 17, 18, 19, 20],\n",
       " <a list of 21 Text xticklabel objects>)"
      ]
     },
     "execution_count": 147,
     "metadata": {},
     "output_type": "execute_result"
    },
    {
     "data": {
      "image/png": "[encoded data removed]",
      "text/plain": [
       "<Figure size 432x288 with 1 Axes>"
      ]
     },
     "metadata": {
      "needs_background": "light"
     },
     "output_type": "display_data"
    }
   ],
   "source": [
    "plt.bar(x = bar_x_values(all_ages), height=bar_y_values(all_ages))\n",
    "plt.xticks( rotation='vertical')"
   ]
  },
  {
   "cell_type": "code",
   "execution_count": null,
   "metadata": {},
   "outputs": [],
   "source": []
  }
 ],
 "metadata": {
  "kernelspec": {
   "display_name": "Python 3",
   "language": "python",
   "name": "python3"
  },
  "language_info": {
   "codemirror_mode": {
    "name": "ipython",
    "version": 3
   },
   "file_extension": ".py",
   "mimetype": "text/x-python",
   "name": "python",
   "nbconvert_exporter": "python",
   "pygments_lexer": "ipython3",
   "version": "3.7.4"
  }
 },
 "nbformat": 4,
 "nbformat_minor": 2
}
